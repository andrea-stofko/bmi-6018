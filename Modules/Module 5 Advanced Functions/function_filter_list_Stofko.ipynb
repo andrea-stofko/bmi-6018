{
 "cells": [
  {
   "cell_type": "code",
   "execution_count": null,
   "id": "9958bb72-cb89-4cfc-90b1-2fd90e5a906d",
   "metadata": {},
   "outputs": [],
   "source": [
    "'''\n",
    "Write a python program that, given an input list, will filter the input above\n",
    "a user defined threshold. This is to be done with a standard function.\n",
    "That is, given a list [1,2,3,4,5,6,7,8,9], and an argument (6), it should return [1,2,3,4,5,6]\n",
    "'''"
   ]
  },
  {
   "cell_type": "code",
   "execution_count": 2,
   "id": "1b5ba764-3bbe-4def-915d-028f18a47282",
   "metadata": {},
   "outputs": [
    {
     "name": "stdout",
     "output_type": "stream",
     "text": [
      "[1, 2, 3, 4, 5, 6]\n"
     ]
    }
   ],
   "source": [
    "def func (lst):\n",
    "    return lst <= x #return list values that are less than given argument x\n",
    "\n",
    "my_list = [1,2,3,4,5,6,7,8,9]\n",
    "x = 6\n",
    "\n",
    "answer = list(filter(lambda x: func(x), my_list))\n",
    "print(answer)"
   ]
  }
 ],
 "metadata": {
  "kernelspec": {
   "display_name": "Python 3 (ipykernel)",
   "language": "python",
   "name": "python3"
  },
  "language_info": {
   "codemirror_mode": {
    "name": "ipython",
    "version": 3
   },
   "file_extension": ".py",
   "mimetype": "text/x-python",
   "name": "python",
   "nbconvert_exporter": "python",
   "pygments_lexer": "ipython3",
   "version": "3.12.5"
  }
 },
 "nbformat": 4,
 "nbformat_minor": 5
}
