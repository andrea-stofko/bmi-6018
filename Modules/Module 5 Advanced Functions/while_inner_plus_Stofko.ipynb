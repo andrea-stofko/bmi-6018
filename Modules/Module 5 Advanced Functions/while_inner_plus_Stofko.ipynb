{
 "cells": [
  {
   "cell_type": "code",
   "execution_count": 28,
   "id": "a354d3ed-b3fc-482e-9e91-91bd82c85ab4",
   "metadata": {},
   "outputs": [
    {
     "data": {
      "text/plain": [
       "'Write a python program that, given an input list of any level of complexity/nestedness, will return the inner most list plus 1. \\nThis is to be done with a while loop. Note: the input will contain only integers or lists. \\nAs an example:\\n\\ninput_list = [1,2,3,4,[5,6,7,[8,9]]]\\n\\nyour_py_program.py input_list\\n\\nwill produce:\\n\\n[9,10]\\n\\nThat is [8, 9] (the inner most list) plus 1 -> [9, 10] \\n'"
      ]
     },
     "execution_count": 28,
     "metadata": {},
     "output_type": "execute_result"
    }
   ],
   "source": [
    "'''Write a python program that, given an input list of any level of complexity/nestedness, will return the inner most list plus 1. \n",
    "This is to be done with a while loop. Note: the input will contain only integers or lists. \n",
    "As an example:\n",
    "\n",
    "input_list = [1,2,3,4,[5,6,7,[8,9]]]\n",
    "\n",
    "your_py_program.py input_list\n",
    "\n",
    "will produce:\n",
    "\n",
    "[9,10]\n",
    "\n",
    "That is [8, 9] (the inner most list) plus 1 -> [9, 10] \n",
    "'''\n"
   ]
  },
  {
   "cell_type": "code",
   "execution_count": 3,
   "id": "a2a303e5-7e63-48c5-9938-27be9ae5d7a6",
   "metadata": {},
   "outputs": [
    {
     "name": "stdout",
     "output_type": "stream",
     "text": [
      "[9, 10, 11]\n"
     ]
    }
   ],
   "source": [
    "def while_loop(l):\n",
    "    current_innermost_list = l\n",
    "    inner_lists = l\n",
    "    while len(inner_lists) > 0:\n",
    "        temp = []\n",
    "        for x in inner_lists:\n",
    "            if isinstance(x, list):\n",
    "                for y in x:\n",
    "                    if isinstance(y, list):\n",
    "                        temp.append(y)\n",
    "            inner_lists = temp\n",
    "            if len(inner_lists) > 0:\n",
    "                if isinstance(inner_lists[0], list):\n",
    "                    current_innermost_list = inner_lists [0]\n",
    "                result = [i + 1 for i in current_innermost_list]\n",
    "                return result\n",
    "        \n",
    "t = [1,2,3,4,[5,6,7,[8,9,10]]]\n",
    "    \n",
    "answer = while_loop(t)\n",
    "print(answer)"
   ]
  },
  {
   "cell_type": "code",
   "execution_count": null,
   "id": "12dd8f60-f8b9-4e2d-ab01-186e49b83793",
   "metadata": {},
   "outputs": [],
   "source": []
  }
 ],
 "metadata": {
  "kernelspec": {
   "display_name": "Python 3 (ipykernel)",
   "language": "python",
   "name": "python3"
  },
  "language_info": {
   "codemirror_mode": {
    "name": "ipython",
    "version": 3
   },
   "file_extension": ".py",
   "mimetype": "text/x-python",
   "name": "python",
   "nbconvert_exporter": "python",
   "pygments_lexer": "ipython3",
   "version": "3.12.5"
  }
 },
 "nbformat": 4,
 "nbformat_minor": 5
}
