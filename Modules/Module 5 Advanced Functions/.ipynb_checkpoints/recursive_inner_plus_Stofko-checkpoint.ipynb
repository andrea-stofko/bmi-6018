{
 "cells": [
  {
   "cell_type": "code",
   "execution_count": 22,
   "id": "21a85784-8ca2-44b8-b864-7ea7fd74d048",
   "metadata": {},
   "outputs": [
    {
     "ename": "TypeError",
     "evalue": "isinstance() arg 2 must be a type, a tuple of types, or a union",
     "output_type": "error",
     "traceback": [
      "\u001b[0;31m---------------------------------------------------------------------------\u001b[0m",
      "\u001b[0;31mTypeError\u001b[0m                                 Traceback (most recent call last)",
      "Cell \u001b[0;32mIn[22], line 27\u001b[0m\n\u001b[1;32m     24\u001b[0m     \u001b[38;5;28;01mreturn\u001b[39;00m result\n\u001b[1;32m     26\u001b[0m my_list \u001b[38;5;241m=\u001b[39m [\u001b[38;5;241m1\u001b[39m,\u001b[38;5;241m2\u001b[39m,\u001b[38;5;241m3\u001b[39m,\u001b[38;5;241m4\u001b[39m,[\u001b[38;5;241m5\u001b[39m,\u001b[38;5;241m6\u001b[39m,\u001b[38;5;241m7\u001b[39m,[\u001b[38;5;241m8\u001b[39m,\u001b[38;5;241m9\u001b[39m,\u001b[38;5;241m10\u001b[39m]]]\n\u001b[0;32m---> 27\u001b[0m answer \u001b[38;5;241m=\u001b[39m \u001b[43mreturn_innermost_list\u001b[49m\u001b[43m(\u001b[49m\u001b[43mmy_list\u001b[49m\u001b[43m)\u001b[49m\n\u001b[1;32m     28\u001b[0m \u001b[38;5;28mprint\u001b[39m(answer)\n",
      "Cell \u001b[0;32mIn[22], line 19\u001b[0m, in \u001b[0;36mreturn_innermost_list\u001b[0;34m(l)\u001b[0m\n\u001b[1;32m     17\u001b[0m inner_lists \u001b[38;5;241m=\u001b[39m l\n\u001b[1;32m     18\u001b[0m \u001b[38;5;28;01mwhile\u001b[39;00m \u001b[38;5;28mlen\u001b[39m(inner_lists) \u001b[38;5;241m>\u001b[39m \u001b[38;5;241m0\u001b[39m:\n\u001b[0;32m---> 19\u001b[0m     inner_lists \u001b[38;5;241m=\u001b[39m \u001b[43mreturn_inner_lists\u001b[49m\u001b[43m(\u001b[49m\u001b[43minner_lists\u001b[49m\u001b[43m)\u001b[49m\n\u001b[1;32m     20\u001b[0m     \u001b[38;5;28;01mif\u001b[39;00m \u001b[38;5;28mlen\u001b[39m(inner_lists) \u001b[38;5;241m>\u001b[39m \u001b[38;5;241m0\u001b[39m:\n\u001b[1;32m     21\u001b[0m         \u001b[38;5;28;01mif\u001b[39;00m \u001b[38;5;28misinstance\u001b[39m(inner_lists[\u001b[38;5;241m0\u001b[39m], \u001b[38;5;28mlist\u001b[39m):\n",
      "Cell \u001b[0;32mIn[22], line 9\u001b[0m, in \u001b[0;36mreturn_inner_lists\u001b[0;34m(l)\u001b[0m\n\u001b[1;32m      7\u001b[0m n \u001b[38;5;241m=\u001b[39m []\n\u001b[1;32m      8\u001b[0m \u001b[38;5;28;01mfor\u001b[39;00m x \u001b[38;5;129;01min\u001b[39;00m l:\n\u001b[0;32m----> 9\u001b[0m     \u001b[38;5;28;01mif\u001b[39;00m \u001b[38;5;28;43misinstance\u001b[39;49m\u001b[43m(\u001b[49m\u001b[43mx\u001b[49m\u001b[43m,\u001b[49m\u001b[38;5;28;43mlist\u001b[39;49m\u001b[43m)\u001b[49m:\n\u001b[1;32m     10\u001b[0m         \u001b[38;5;28;01mfor\u001b[39;00m y \u001b[38;5;129;01min\u001b[39;00m x:\n\u001b[1;32m     11\u001b[0m             \u001b[38;5;28;01mif\u001b[39;00m \u001b[38;5;28misinstance\u001b[39m(y,\u001b[38;5;28mlist\u001b[39m):\n",
      "\u001b[0;31mTypeError\u001b[0m: isinstance() arg 2 must be a type, a tuple of types, or a union"
     ]
    }
   ],
   "source": [
    "'''\n",
    "Write the a python program that, given an input list of any level of complexity/nestedness, will return the inner most list plus 1. \n",
    "This is to be done with recursion. Note: the input will contain only integers or lists. \n",
    "'''\n",
    "\n",
    "def return_inner_lists(l):\n",
    "    n = []\n",
    "    for x in l:\n",
    "        if isinstance(x,list):\n",
    "            for y in x:\n",
    "                if isinstance(y,list):\n",
    "                    n.append(y) \n",
    "    return n\n",
    "\n",
    "def return_innermost_list(l):\n",
    "    current_innermost_list = l\n",
    "    inner_lists = l\n",
    "    while len(inner_lists) > 0:\n",
    "        inner_lists = return_inner_lists(inner_lists)\n",
    "        if len(inner_lists) > 0:\n",
    "            if isinstance(inner_lists[0], list):\n",
    "                current_innermost_list = inner_lists[0]\n",
    "    result = [i + 1 for i in current_innermost_list]            \n",
    "    return result\n",
    "\n",
    "my_list = [1,2,3,4,[5,6,7,[8,9,10]]]\n",
    "answer = return_innermost_list(my_list)\n",
    "print(answer)"
   ]
  },
  {
   "cell_type": "code",
   "execution_count": null,
   "id": "d8269fcb-c90b-4f8a-b9fd-fef1f47d97df",
   "metadata": {},
   "outputs": [],
   "source": []
  },
  {
   "cell_type": "code",
   "execution_count": null,
   "id": "c41d3aa3-9171-4091-b7d9-44b396fb3bb8",
   "metadata": {},
   "outputs": [],
   "source": []
  }
 ],
 "metadata": {
  "kernelspec": {
   "display_name": "Python 3 (ipykernel)",
   "language": "python",
   "name": "python3"
  },
  "language_info": {
   "codemirror_mode": {
    "name": "ipython",
    "version": 3
   },
   "file_extension": ".py",
   "mimetype": "text/x-python",
   "name": "python",
   "nbconvert_exporter": "python",
   "pygments_lexer": "ipython3",
   "version": "3.12.5"
  }
 },
 "nbformat": 4,
 "nbformat_minor": 5
}
