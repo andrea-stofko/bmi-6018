{
 "cells": [
  {
   "cell_type": "markdown",
   "id": "c04d76bf",
   "metadata": {},
   "source": [
    "## Scope "
   ]
  },
  {
   "cell_type": "markdown",
   "id": "04dd1295",
   "metadata": {},
   "source": [
    "- When you create a variable name in Python, the name is stored in 'namespace'. \n",
    "- Variable names also have a scope, and the scope determines the visibility of the variable name to other parts of the code. "
   ]
  },
  {
   "cell_type": "code",
   "execution_count": 27,
   "id": "9a8aa392",
   "metadata": {},
   "outputs": [
    {
     "name": "stdout",
     "output_type": "stream",
     "text": [
      "3\n"
     ]
    }
   ],
   "source": [
    "x = 10\n",
    "\n",
    "def func():\n",
    "    x=3\n",
    "    print(x)\n",
    "\n",
    "func()"
   ]
  },
  {
   "cell_type": "code",
   "execution_count": 28,
   "id": "8890e679",
   "metadata": {},
   "outputs": [
    {
     "name": "stdout",
     "output_type": "stream",
     "text": [
      "10\n"
     ]
    }
   ],
   "source": [
    "print(x)"
   ]
  },
  {
   "cell_type": "markdown",
   "id": "0ddde718",
   "metadata": {},
   "source": [
    "- Why do we get two different answers? "
   ]
  },
  {
   "cell_type": "markdown",
   "id": "9bd2a3a3",
   "metadata": {},
   "source": [
    "# LEGB Rule: \n",
    "- L: Local - Names assigned in any way within a function (def or lambda), and not declared global in function\n",
    "- E: Enclosing function locals - Names in local scope of any and all enclosing functions, from inner to outer\n",
    "- G: Global -  Names assigned at the top-evel of a module file, or declared global in a def within the file\n",
    "- B: Built-in (Python) - Names assigned in the built-in names module : open, range, SyntaxError,.. "
   ]
  },
  {
   "cell_type": "code",
   "execution_count": 103,
   "id": "52aabba4",
   "metadata": {},
   "outputs": [
    {
     "name": "stdout",
     "output_type": "stream",
     "text": [
      "Hello THIS IS A GLOBAL STRING\n"
     ]
    }
   ],
   "source": [
    "name = 'THIS IS A GLOBAL STRING' #GLOBAL\n",
    "\n",
    "def greet():\n",
    "     name = 'Sam' #ENCLOSING\n",
    "#     print('Hello ' + name)\n",
    "    def hello(): \n",
    "#         name = 'Kolton' #LOCAL\n",
    "        print('Hello ' + name)\n",
    "        \n",
    "    hello()\n",
    "greet()"
   ]
  },
  {
   "cell_type": "code",
   "execution_count": 109,
   "id": "0581d81e",
   "metadata": {},
   "outputs": [
    {
     "name": "stdout",
     "output_type": "stream",
     "text": [
      "z is 10 GLOBALLY\n",
      "Changing z to 3 LOCALLY\n",
      " \n",
      "value of z, outside the function is:  10\n"
     ]
    }
   ],
   "source": [
    "z = 10\n",
    "\n",
    "def func(z):\n",
    "#     input()\n",
    "    print(f'z is {z} GLOBALLY') #Returns GLOBAL\n",
    "    \n",
    "    #LOCAL reassignment!\n",
    "    z=3\n",
    "    print(f'Changing z to {z} LOCALLY')\n",
    "\n",
    "func(z)\n",
    "input()\n",
    "print('value of z, outside the function is: ',z)"
   ]
  },
  {
   "cell_type": "code",
   "execution_count": 115,
   "id": "87a958b7",
   "metadata": {},
   "outputs": [],
   "source": [
    "x = 20\n",
    "\n",
    "def func():\n",
    "    global x; x=200\n",
    "    print(f'x is {x} GLOBALLY') #Returns GLOBAL\n",
    "    \n",
    "    #LOCAL reassignment!\n",
    "    x = 200\n",
    "    print(f'Changing x to {x} LOCALLY')\n"
   ]
  },
  {
   "cell_type": "code",
   "execution_count": 111,
   "id": "387d2baf",
   "metadata": {},
   "outputs": [
    {
     "name": "stdout",
     "output_type": "stream",
     "text": [
      "20\n"
     ]
    }
   ],
   "source": [
    "print(x)"
   ]
  },
  {
   "cell_type": "code",
   "execution_count": 116,
   "id": "c7b801d2",
   "metadata": {},
   "outputs": [
    {
     "name": "stdout",
     "output_type": "stream",
     "text": [
      "x is 200 GLOBALLY\n",
      "Changing x to 200 LOCALLY\n"
     ]
    }
   ],
   "source": [
    "func()"
   ]
  },
  {
   "cell_type": "code",
   "execution_count": 117,
   "id": "13484040",
   "metadata": {},
   "outputs": [
    {
     "name": "stdout",
     "output_type": "stream",
     "text": [
      "200\n"
     ]
    }
   ],
   "source": [
    "print(x)"
   ]
  },
  {
   "cell_type": "markdown",
   "id": "e7a46e7a",
   "metadata": {},
   "source": [
    "- Using global keyword, you're able to reach out into that global namespace and then your local assignment do affect that global variable. \n",
    "- Since the global keyword is able to do this, as a begineer you should **AVOID** it."
   ]
  },
  {
   "cell_type": "markdown",
   "id": "b94029ff",
   "metadata": {},
   "source": [
    "## Recursion"
   ]
  },
  {
   "cell_type": "code",
   "execution_count": 118,
   "id": "bbc8a78c",
   "metadata": {},
   "outputs": [],
   "source": [
    "def while_factorial(n):\n",
    "    multi_output = str(n)\n",
    "    while n > 1:\n",
    "        n = n-1\n",
    "        multi_output = multi_output + '*' + str(n)\n",
    "        print(multi_output)"
   ]
  },
  {
   "cell_type": "code",
   "execution_count": 119,
   "id": "18fa12f8",
   "metadata": {},
   "outputs": [
    {
     "name": "stdout",
     "output_type": "stream",
     "text": [
      "4*3\n",
      "4*3*2\n",
      "4*3*2*1\n"
     ]
    }
   ],
   "source": [
    "while_factorial(4)"
   ]
  },
  {
   "cell_type": "code",
   "execution_count": null,
   "id": "fae8da97",
   "metadata": {},
   "outputs": [],
   "source": [
    "4! = 4* 3!\n",
    "3! = 3* 2!"
   ]
  },
  {
   "cell_type": "code",
   "execution_count": 120,
   "id": "1556dc37",
   "metadata": {},
   "outputs": [],
   "source": [
    "def recursive_factorial(n):\n",
    "    print(f'here you are calculating {n}!')\n",
    "    input()\n",
    "    if (n <= 0):\n",
    "        print('termination')\n",
    "        print(f'the value for {n}! is 1')\n",
    "        return 1\n",
    "    else:\n",
    "        print(f'to do this you need to calculate {n}*{n-1}!')\n",
    "\n",
    "        return recursive_factorial(n-1)*n"
   ]
  },
  {
   "cell_type": "code",
   "execution_count": 121,
   "id": "d38ae0b1",
   "metadata": {},
   "outputs": [
    {
     "name": "stdout",
     "output_type": "stream",
     "text": [
      "here you are calculating 4!\n",
      " \n",
      "to do this you need to calculate 4*3!\n",
      "here you are calculating 3!\n",
      " \n",
      "to do this you need to calculate 3*2!\n",
      "here you are calculating 2!\n",
      " \n",
      "to do this you need to calculate 2*1!\n",
      "here you are calculating 1!\n",
      " \n",
      "to do this you need to calculate 1*0!\n",
      "here you are calculating 0!\n",
      " \n",
      "termination\n",
      "the value for 0! is 1\n"
     ]
    },
    {
     "data": {
      "text/plain": [
       "24"
      ]
     },
     "execution_count": 121,
     "metadata": {},
     "output_type": "execute_result"
    }
   ],
   "source": [
    "recursive_factorial(4)"
   ]
  },
  {
   "cell_type": "markdown",
   "id": "6303b394",
   "metadata": {},
   "source": [
    "## depth and termination"
   ]
  },
  {
   "cell_type": "markdown",
   "id": "46b0bf13",
   "metadata": {},
   "source": [
    "when you are solving a problem and you think that you are going to have a function calls itself, use recursion"
   ]
  },
  {
   "cell_type": "markdown",
   "id": "fca5cfe8",
   "metadata": {},
   "source": [
    "if you think that data has flat structure, better to use while, but in both cases you need to devise the termination condition"
   ]
  },
  {
   "cell_type": "code",
   "execution_count": null,
   "id": "a900d153",
   "metadata": {},
   "outputs": [],
   "source": []
  }
 ],
 "metadata": {
  "kernelspec": {
   "display_name": "Python 3",
   "language": "python",
   "name": "python3"
  },
  "language_info": {
   "codemirror_mode": {
    "name": "ipython",
    "version": 3
   },
   "file_extension": ".py",
   "mimetype": "text/x-python",
   "name": "python",
   "nbconvert_exporter": "python",
   "pygments_lexer": "ipython3",
   "version": "3.8.8"
  }
 },
 "nbformat": 4,
 "nbformat_minor": 5
}
