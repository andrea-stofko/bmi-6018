{
 "cells": [
  {
   "cell_type": "code",
   "execution_count": 1,
   "id": "21a85784-8ca2-44b8-b864-7ea7fd74d048",
   "metadata": {},
   "outputs": [
    {
     "name": "stdout",
     "output_type": "stream",
     "text": [
      "[9, 10, 11]\n"
     ]
    }
   ],
   "source": [
    "'''\n",
    "Write the a python program that, given an input list of any level of complexity/nestedness, will return the inner most list plus 1. \n",
    "This is to be done with recursion. Note: the input will contain only integers or lists. \n",
    "'''\n",
    "\n",
    "def return_inner_lists(l):\n",
    "    n = []\n",
    "    for x in l:\n",
    "        if isinstance(x,list):\n",
    "            for y in x:\n",
    "                if isinstance(y,list):\n",
    "                    n.append(y) \n",
    "    return n\n",
    "\n",
    "def return_innermost_list(l):\n",
    "    current_innermost_list = l\n",
    "    inner_lists = l\n",
    "    while len(inner_lists) > 0:\n",
    "        inner_lists = return_inner_lists(inner_lists)\n",
    "        if len(inner_lists) > 0:\n",
    "            if isinstance(inner_lists[0], list):\n",
    "                current_innermost_list = inner_lists[0]\n",
    "    result = [i + 1 for i in current_innermost_list]            \n",
    "    return result\n",
    "\n",
    "my_list = [1,2,3,4,[5,6,7,[8,9,10]]]\n",
    "answer = return_innermost_list(my_list)\n",
    "print(answer)"
   ]
  },
  {
   "cell_type": "code",
   "execution_count": null,
   "id": "d8269fcb-c90b-4f8a-b9fd-fef1f47d97df",
   "metadata": {},
   "outputs": [],
   "source": []
  },
  {
   "cell_type": "code",
   "execution_count": null,
   "id": "c41d3aa3-9171-4091-b7d9-44b396fb3bb8",
   "metadata": {},
   "outputs": [],
   "source": []
  }
 ],
 "metadata": {
  "kernelspec": {
   "display_name": "Python 3 (ipykernel)",
   "language": "python",
   "name": "python3"
  },
  "language_info": {
   "codemirror_mode": {
    "name": "ipython",
    "version": 3
   },
   "file_extension": ".py",
   "mimetype": "text/x-python",
   "name": "python",
   "nbconvert_exporter": "python",
   "pygments_lexer": "ipython3",
   "version": "3.12.5"
  }
 },
 "nbformat": 4,
 "nbformat_minor": 5
}
