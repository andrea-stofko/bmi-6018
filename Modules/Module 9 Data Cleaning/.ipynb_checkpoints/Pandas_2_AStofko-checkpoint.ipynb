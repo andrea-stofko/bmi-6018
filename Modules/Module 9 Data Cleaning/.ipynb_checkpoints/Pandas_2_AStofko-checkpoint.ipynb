{
 "cells": [
  {
   "cell_type": "code",
   "execution_count": 2,
   "id": "5921b310-636a-4fc7-ada3-6b1d95fb8a66",
   "metadata": {},
   "outputs": [],
   "source": [
    "import pandas as pd"
   ]
  },
  {
   "cell_type": "code",
   "execution_count": 3,
   "id": "22544701-c7e8-4774-8da9-76287384a82f",
   "metadata": {},
   "outputs": [],
   "source": [
    "#Question 1 (15 Points)\n",
    "#Compute the euclidean distance between series (points) p and q, without using a packaged formula.\n",
    "\n",
    "p = pd.Series([1, 2, 3, 4, 5, 6, 7, 8, 9, 10])\n",
    "q = pd.Series([10, 9, 8, 7, 6, 5, 4, 3, 2, 1])\n"
   ]
  },
  {
   "cell_type": "code",
   "execution_count": null,
   "id": "cbf4ba0e-b20b-4b86-bb09-a4935ec8141e",
   "metadata": {},
   "outputs": [],
   "source": [
    "#Question 2 (15 Points)\n",
    "#Change the order of columns of a dataframe. Interchange columns 'a' and 'c'.\n",
    "\n",
    "df = pd.DataFrame(np.arange(20).reshape(-1, 5), columns=list('abcde'))\n"
   ]
  },
  {
   "cell_type": "code",
   "execution_count": null,
   "id": "96b581bf-a718-4032-9296-a1bf1c6cf76d",
   "metadata": {},
   "outputs": [],
   "source": [
    "#Question 3 (15 Points)\n",
    "#Change the order of columns of a dataframe.  Create a generic function to interchange two columns, without hardcoding column names.\n",
    "\n",
    "df = pd.DataFrame(np.arange(20).reshape(-1, 5), columns=list('abcde'))"
   ]
  }
 ],
 "metadata": {
  "kernelspec": {
   "display_name": "Python 3 (ipykernel)",
   "language": "python",
   "name": "python3"
  },
  "language_info": {
   "codemirror_mode": {
    "name": "ipython",
    "version": 3
   },
   "file_extension": ".py",
   "mimetype": "text/x-python",
   "name": "python",
   "nbconvert_exporter": "python",
   "pygments_lexer": "ipython3",
   "version": "3.12.5"
  }
 },
 "nbformat": 4,
 "nbformat_minor": 5
}
