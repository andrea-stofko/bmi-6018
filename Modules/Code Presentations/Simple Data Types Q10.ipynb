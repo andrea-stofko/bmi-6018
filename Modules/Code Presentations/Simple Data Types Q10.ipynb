{
 "cells": [
  {
   "cell_type": "code",
   "execution_count": null,
   "id": "fe296133-f79d-4974-ad07-eaf80c9cb616",
   "metadata": {},
   "outputs": [],
   "source": [
    "'''\n",
    "Quiz question - Simple Data Types\n",
    "Question 10: Type the output if the strings \"7\" and \"3\" are added.\n",
    "'''"
   ]
  },
  {
   "cell_type": "code",
   "execution_count": 1,
   "id": "3904496e-14cf-468c-8de1-e2c4578a4fa6",
   "metadata": {},
   "outputs": [
    {
     "name": "stdout",
     "output_type": "stream",
     "text": [
      "73\n"
     ]
    }
   ],
   "source": [
    "output = str(7) + str(3)\n",
    "print(output)"
   ]
  }
 ],
 "metadata": {
  "kernelspec": {
   "display_name": "Python 3 (ipykernel)",
   "language": "python",
   "name": "python3"
  },
  "language_info": {
   "codemirror_mode": {
    "name": "ipython",
    "version": 3
   },
   "file_extension": ".py",
   "mimetype": "text/x-python",
   "name": "python",
   "nbconvert_exporter": "python",
   "pygments_lexer": "ipython3",
   "version": "3.12.5"
  }
 },
 "nbformat": 4,
 "nbformat_minor": 5
}
