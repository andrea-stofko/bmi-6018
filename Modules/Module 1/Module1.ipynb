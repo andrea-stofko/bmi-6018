{
 "cells": [
  {
   "cell_type": "code",
   "execution_count": 2,
   "id": "a4911c7d-8567-4531-8d46-50971730ec10",
   "metadata": {},
   "outputs": [
    {
     "name": "stdout",
     "output_type": "stream",
     "text": [
      "I, Andrea Stofko, have successfully installed and run a python program on my computer!\n"
     ]
    }
   ],
   "source": [
    "output = \"I, Andrea Stofko, have successfully installed and run a python program on my computer!\"\n",
    "\n",
    "print(output)"
   ]
  }
 ],
 "metadata": {
  "kernelspec": {
   "display_name": "Python 3 (ipykernel)",
   "language": "python",
   "name": "python3"
  },
  "language_info": {
   "codemirror_mode": {
    "name": "ipython",
    "version": 3
   },
   "file_extension": ".py",
   "mimetype": "text/x-python",
   "name": "python",
   "nbconvert_exporter": "python",
   "pygments_lexer": "ipython3",
   "version": "3.12.5"
  }
 },
 "nbformat": 4,
 "nbformat_minor": 5
}
