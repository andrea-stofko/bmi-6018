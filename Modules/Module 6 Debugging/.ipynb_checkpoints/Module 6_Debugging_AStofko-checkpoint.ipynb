{
 "cells": [
  {
   "cell_type": "code",
   "execution_count": null,
   "id": "e52a0d25-5bea-41cb-b1a6-5104dac5e266",
   "metadata": {},
   "outputs": [],
   "source": [
    "\"\"\"\n",
    "#%% the humble print statement\n",
    "'''\n",
    "1.a\n",
    "Using the print() function only, get the wrong_add_function to print out where\n",
    "it is making a mistake, given the expected output for ex, \"we are making an error \n",
    "in the loop\", which you would put near the loop. \n",
    "Structure the print() statement to show what the expected output ought to be\n",
    "via f-strings: ie \"The correct answer is supposed to be: [...]\"."
   ]
  },
  {
   "cell_type": "code",
   "execution_count": 47,
   "id": "c90f4d4e-f059-46d0-b5b0-a18f3cc43bab",
   "metadata": {},
   "outputs": [
    {
     "name": "stdout",
     "output_type": "stream",
     "text": [
      "1A: We are making an error in the loop, the result is [6, 9, 12]\n",
      "The correct answer is supposed to be [2, 3, 4]\n"
     ]
    }
   ],
   "source": [
    "def wrong_add_function(x, y):\n",
    "   arg1_index=0\n",
    "   while arg1_index < len(arg1):\n",
    "      arg_2_sum = 0\n",
    "      for arg2_elements in arg2:\n",
    "         arg_2_sum = sum([arg1[arg1_index]+i for i in arg2])\n",
    "      arg1[arg1_index]=arg_2_sum  \n",
    "      arg1_index+=1\n",
    "   return arg1\n",
    "\n",
    "arg1 = [1,2,3]\n",
    "arg2 = [1,1,1]\n",
    "\n",
    "result = wrong_add_function(arg1, arg2)\n",
    "print(f'1A: We are making an error in the loop, the result is {result}')\n",
    "correct_list = [2,3,4]\n",
    "print(f'The correct answer is supposed to be {correct_list}')"
   ]
  },
  {
   "cell_type": "code",
   "execution_count": 48,
   "id": "ca1db38d-7de2-4384-b2a8-65134062411b",
   "metadata": {},
   "outputs": [
    {
     "name": "stdout",
     "output_type": "stream",
     "text": [
      "1B: We are fixing an error in the loop, the result is [2, 3, 4].\n",
      "The correct answer is supposed to be [2, 3, 4].\n"
     ]
    }
   ],
   "source": [
    "'''\n",
    "1.b Correct_add_function\n",
    "'''\n",
    "def correct_add_function(x, y):\n",
    "   arg1_index=0\n",
    "   while arg1_index < len(arg1):\n",
    "      arg_2_sum = 0\n",
    "      for arg2_elements in arg2:\n",
    "         arg_2_sum = sum([arg1[arg1_index]+ arg2[arg1_index]])\n",
    "      arg1[arg1_index]=arg_2_sum  \n",
    "      arg1_index+=1\n",
    "   return arg1\n",
    "\n",
    "arg1 = [1,2,3]\n",
    "arg2 = [1,1,1]\n",
    "\n",
    "result = correct_add_function(arg1, arg2)\n",
    "print(f'1B: We are fixing an error in the loop, the result is {result}.')\n",
    "correct_list = [2,3,4]\n",
    "print(f'The correct answer is supposed to be {correct_list}.')"
   ]
  },
  {
   "cell_type": "code",
   "execution_count": null,
   "id": "7676dafb-554d-4df2-b2be-6350edae9c9f",
   "metadata": {},
   "outputs": [],
   "source": [
    "'''\n",
    "2.a\n",
    "Update the numeric section of the function with your changes from 1 for both \n",
    "2.b and 2.c\n",
    "'''"
   ]
  },
  {
   "cell_type": "code",
   "execution_count": 49,
   "id": "278385a6-e7bf-456e-b18c-c33569d4b6bb",
   "metadata": {},
   "outputs": [
    {
     "name": "stdout",
     "output_type": "stream",
     "text": [
      "2A: None\n"
     ]
    }
   ],
   "source": [
    "def wrong_add_function(arg1,arg2):\n",
    "   #numeric section\n",
    "   if sum([type(i)==int for i in arg1])==len(arg1) and \\\n",
    "      sum([type(i)==int for i in arg2])==len(arg2):\n",
    "         arg1_index=0\n",
    "         while arg1_index < len(arg1):\n",
    "            arg_2_sum = 0\n",
    "            for arg2_elements in arg2:\n",
    "               arg_2_sum = sum([arg1[arg1_index]+ arg2[arg1_index]]) #numeric section updated with 1B code\n",
    "            arg1[arg1_index]=arg_2_sum  \n",
    "            arg1_index+=1\n",
    "         return arg1\n",
    "   #string section\n",
    "   elif sum([type(i)==str for i in arg1])==len(arg1) and \\\n",
    "        sum([type(i)==str for i in arg2])==len(arg2):\n",
    "          arg1_index=0\n",
    "          while arg1_index < len(arg1):\n",
    "             arg_2_sum = ''\n",
    "             for arg2_elements in arg2:\n",
    "                arg_2_sum += arg2_elements\n",
    "             arg1[arg1_index]=arg1[arg1_index]+str(arg_2_sum)\n",
    "             arg1_index+=1\n",
    "          return arg1\n",
    "\n",
    "\n",
    "arg_str_1=['1','2','3']\n",
    "arg_str_2=['1','1', 1] #left this input as listed in the homework document\n",
    "\n",
    "result = wrong_add_function(arg_str_1,arg_str_2)\n",
    "print('2A:',result) #printing function based on above assumption (if second list is changed to all str, the result is a str)"
   ]
  },
  {
   "cell_type": "code",
   "execution_count": null,
   "id": "0873e332-268e-4a9b-b8ea-37a8f9d6b1e6",
   "metadata": {},
   "outputs": [],
   "source": [
    "'''\n",
    "2.b\n",
    "Without modifying the string section code itself or the input directly, \n",
    "write a try, except block that catches the issue with the input below and \n",
    "returns an error message to the user, in case users give invalid inputs,\n",
    "(for example an input of [\"5\",\"2\", 5])\n",
    ": \"Your input argument [1 or 2] at element [n]\n",
    "is not of the expected type. Please change this and rerun. Name this function \n",
    "exception_add_function()\n",
    "'''"
   ]
  },
  {
   "cell_type": "code",
   "execution_count": 46,
   "id": "d6125378-d67a-4528-a168-c03cfa144a46",
   "metadata": {},
   "outputs": [
    {
     "name": "stdout",
     "output_type": "stream",
     "text": [
      "TypeError: Your input argument is not of the expected type, please change this and rerun.\n",
      "2B: None\n"
     ]
    }
   ],
   "source": [
    "def exception_add_function(arg1,arg2):\n",
    "    try:\n",
    "       #numeric section\n",
    "       if sum([type(i)==int for i in arg1])==len(arg1) and \\\n",
    "          sum([type(i)==int for i in arg2])==len(arg2):\n",
    "             arg1_index=0\n",
    "             while arg1_index < len(arg1):\n",
    "                arg_2_sum = 0\n",
    "                for arg2_elements in arg2:\n",
    "                   arg_2_sum = sum([arg1[arg1_index]+ arg2[arg1_index]]) #numeric section updated with 1A code\n",
    "                arg1[arg1_index]=arg_2_sum  \n",
    "                arg1_index+=1\n",
    "             return arg1\n",
    "       #string section\n",
    "       elif sum([type(i)==str for i in arg1])==len(arg1) and \\\n",
    "            sum([type(i)==str for i in arg2])==len(arg2):\n",
    "              arg1_index=0\n",
    "              while arg1_index < len(arg1):\n",
    "                 arg_2_sum = ''\n",
    "                 for arg2_elements in arg2:\n",
    "                    arg_2_sum += arg2_elements\n",
    "                 arg1[arg1_index]=arg1[arg1_index]+str(arg_2_sum)\n",
    "                 arg1_index+=1\n",
    "              return arg1\n",
    "       else: #raise type error b/c we are expecting input to be of same type for function to run\n",
    "           raise TypeError('Your input argument is not of the expected type, please change this and rerun.')\n",
    "           \n",
    "    except TypeError as e:\n",
    "        print('TypeError:', e)\n",
    "\n",
    "\n",
    "arg1=['1','2','3']\n",
    "arg2=[\"5\",\"2\", 5] #input given to test try, except block\n",
    "\n",
    "result = exception_add_function(arg1,arg2)\n",
    "print('2B:',result)"
   ]
  },
  {
   "cell_type": "code",
   "execution_count": null,
   "id": "d068c7cf-872b-4371-b3bf-50102ea1f702",
   "metadata": {},
   "outputs": [],
   "source": [
    "'''\n",
    "2.c\n",
    "Without modifying the string section code itself or the input directly, \n",
    "write a try, except block that catches the issue with the input below and \n",
    "gets it to process via the string section. IE, do not, outside the function,\n",
    "change the values of arg_str_1 or arg_str_2. Name this function \n",
    "correction_add_function(), i.e you will not be updating the wrong_add_function,\n",
    "you will simply handle the error of wrong inputs in a seperate function, you want\n",
    "the wrong_add_function to output its current result you are only bolstering the \n",
    "function for edge cases .\n",
    "'''"
   ]
  },
  {
   "cell_type": "code",
   "execution_count": 55,
   "id": "5d58baa8-5644-4c77-a45c-92c2033edc8d",
   "metadata": {},
   "outputs": [
    {
     "name": "stdout",
     "output_type": "stream",
     "text": [
      "TypeError: Your input argument is not of the expected type, it will be converted to str.\n",
      "2C: ['1525', '2525', '3525']\n"
     ]
    }
   ],
   "source": [
    "def correct_add_function(arg1,arg2):\n",
    "    try:\n",
    "       #numeric section\n",
    "       if sum([type(i)==int for i in arg1])==len(arg1) and \\\n",
    "          sum([type(i)==int for i in arg2])==len(arg2):\n",
    "             arg1_index=0\n",
    "             while arg1_index < len(arg1):\n",
    "                arg_2_sum = 0\n",
    "                for arg2_elements in arg2:\n",
    "                   arg_2_sum = sum([arg1[arg1_index]+ arg2[arg1_index]]) #numeric section updated with 1A code\n",
    "                arg1[arg1_index]=arg_2_sum  \n",
    "                arg1_index+=1\n",
    "             return arg1\n",
    "       #string section\n",
    "       elif sum([type(i)==str for i in arg1])==len(arg1) and \\\n",
    "            sum([type(i)==str for i in arg2])==len(arg2):\n",
    "              arg1_index=0\n",
    "              while arg1_index < len(arg1):\n",
    "                 arg_2_sum = ''\n",
    "                 for arg2_elements in arg2:\n",
    "                    arg_2_sum += arg2_elements\n",
    "                 arg1[arg1_index]=arg1[arg1_index]+str(arg_2_sum)\n",
    "                 arg1_index+=1\n",
    "              return arg1\n",
    "       else: #raise type error b/c we are expecting input to be of same type for function to run\n",
    "           raise TypeError('Your input argument is not of the expected type, it will be converted to str.')\n",
    "    #handling this only in the string section and converting input lists to strings      \n",
    "    except TypeError as e:\n",
    "        print('TypeError:', e)\n",
    "        #converting lists to lists of strings:\n",
    "        if not all(isinstance(i,str) for i in arg1) or not all(isinstance(i, str) for i in arg2):\n",
    "            arg1 = [str(i) for i in arg1]\n",
    "            arg2 = [str(i) for i in arg2]\n",
    "        #rerunning function with corrected input:\n",
    "        return correct_add_function(arg1,arg2)\n",
    "\n",
    "arg1=['1','2','3']\n",
    "arg2=[\"5\",\"2\", 5] #input given to test try, except block\n",
    "\n",
    "result = correct_add_function(arg1,arg2)\n",
    "print('2C:',result) #result is a list of concatatenated strings\n",
    "        "
   ]
  }
 ],
 "metadata": {
  "kernelspec": {
   "display_name": "Python 3 (ipykernel)",
   "language": "python",
   "name": "python3"
  },
  "language_info": {
   "codemirror_mode": {
    "name": "ipython",
    "version": 3
   },
   "file_extension": ".py",
   "mimetype": "text/x-python",
   "name": "python",
   "nbconvert_exporter": "python",
   "pygments_lexer": "ipython3",
   "version": "3.12.5"
  }
 },
 "nbformat": 4,
 "nbformat_minor": 5
}
