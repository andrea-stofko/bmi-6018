{
 "cells": [
  {
   "cell_type": "markdown",
   "id": "ced8d50e-c4bc-4ed5-8b56-df40a2139a41",
   "metadata": {},
   "source": [
    "# Debugging"
   ]
  },
  {
   "cell_type": "markdown",
   "id": "b3a30cec-dba0-4e98-8e47-6bd0bc651e7c",
   "metadata": {
    "tags": []
   },
   "source": [
    "## Different types of bugs: syntax, semantic, runtime"
   ]
  },
  {
   "cell_type": "code",
   "execution_count": null,
   "id": "f96cfba8-aaa8-495d-b58c-9ea2f5251f97",
   "metadata": {
    "tags": []
   },
   "outputs": [],
   "source": [
    "#syntax\n",
    "print(\"this doesn't get printed\")\n",
    "print(\"Hello, World\"  # missing closing parenthesis"
   ]
  },
  {
   "cell_type": "code",
   "execution_count": null,
   "id": "e40f6c46-4480-4a15-ad77-3b5eca5cfc4c",
   "metadata": {
    "tags": []
   },
   "outputs": [],
   "source": [
    "#runtime\n",
    "print('this does get printed')\n",
    "num = int(\"hello\")  # Attempting to convert a non-numeric string to an int\n",
    "print(num)"
   ]
  },
  {
   "cell_type": "code",
   "execution_count": null,
   "id": "dc6682e3-f52f-46e6-9fd2-2269a57d1fb9",
   "metadata": {
    "tags": []
   },
   "outputs": [],
   "source": [
    "#semantic\n",
    "def divide(a, b):\n",
    "    return a + b  # Should be a / b\n",
    "\n",
    "result = divide(10, 2)\n",
    "print(result)"
   ]
  },
  {
   "cell_type": "markdown",
   "id": "95b68197-ea16-4109-876a-3e9830e16f57",
   "metadata": {
    "tags": []
   },
   "source": [
    "## Reading the stack trace"
   ]
  },
  {
   "cell_type": "code",
   "execution_count": null,
   "id": "998b10ef-85e2-466f-be4f-21401f894efe",
   "metadata": {
    "tags": []
   },
   "outputs": [],
   "source": [
    "#0 division\n",
    "a = 10\n",
    "b = 0\n",
    "result = a / b"
   ]
  },
  {
   "cell_type": "code",
   "execution_count": null,
   "id": "e609598e-b9ee-4c0d-bb2d-252ca2a21723",
   "metadata": {
    "tags": []
   },
   "outputs": [],
   "source": [
    "#type error\n",
    "x = 5\n",
    "y = '2'\n",
    "z = x + y"
   ]
  },
  {
   "cell_type": "code",
   "execution_count": null,
   "id": "91c3024b-4771-44bd-b108-35f3c977a5f3",
   "metadata": {
    "tags": []
   },
   "outputs": [],
   "source": [
    "#name error\n",
    "print(uninitialized_variable)"
   ]
  },
  {
   "cell_type": "code",
   "execution_count": null,
   "id": "36434bdd-8bdf-4262-aaeb-56a63ff113c2",
   "metadata": {
    "tags": []
   },
   "outputs": [],
   "source": [
    "#name error 2\n",
    "pandas.read_csv('file_name.txt')"
   ]
  },
  {
   "cell_type": "code",
   "execution_count": null,
   "id": "45acd6ca-5074-47f5-bfc3-cb61d41ce6ef",
   "metadata": {
    "tags": []
   },
   "outputs": [],
   "source": [
    "#index error\n",
    "pokemon = ['charizard', 'bulbasaur', 'squirtle']\n",
    "\n",
    "for i in range(4):\n",
    "    print(pokemon[i])"
   ]
  },
  {
   "cell_type": "code",
   "execution_count": null,
   "id": "8e9b2956-5676-4d86-b9f2-3f041adacb54",
   "metadata": {
    "tags": []
   },
   "outputs": [],
   "source": [
    "#key error\n",
    "my_dict = {'name': 'John', 'age': 30}\n",
    "print(my_dict['address'])"
   ]
  },
  {
   "cell_type": "code",
   "execution_count": null,
   "id": "ede34f6f-ac45-41d5-99de-71e29519363b",
   "metadata": {
    "tags": []
   },
   "outputs": [],
   "source": [
    "#filenotfounderror\n",
    "with open('nonexistent_file.txt', 'r') as file:\n",
    "    content = file.read()"
   ]
  },
  {
   "cell_type": "code",
   "execution_count": null,
   "id": "c6f8aaf4-04ee-4542-9c63-66b3fdac2763",
   "metadata": {
    "tags": []
   },
   "outputs": [],
   "source": [
    "#indentation error\n",
    "def some_function():\n",
    "print('Indented incorrectly')"
   ]
  },
  {
   "cell_type": "code",
   "execution_count": null,
   "id": "ce893597-ee83-497e-9f0b-bfc27aef1f3b",
   "metadata": {
    "tags": []
   },
   "outputs": [],
   "source": [
    "#indentation error 2\n",
    "if condition:\n",
    "    print('Indented with spaces')\n",
    "\tprint('Indented with tabs')"
   ]
  },
  {
   "cell_type": "code",
   "execution_count": null,
   "id": "9712bf10-f37d-42c4-9834-02255acc4f48",
   "metadata": {
    "tags": []
   },
   "outputs": [],
   "source": [
    "#syntax error\n",
    "print([x for x in range(10])"
   ]
  },
  {
   "cell_type": "code",
   "execution_count": null,
   "id": "dbb2896a-1201-4c77-a466-2edaa6889b18",
   "metadata": {
    "tags": []
   },
   "outputs": [],
   "source": [
    "def dummy_function1(x):\n",
    "    print(1/x)\n",
    "    \n",
    "def dummy_function2(y):\n",
    "    dummy_function1(y+1)\n",
    "    \n",
    "dummy_function2(-1)"
   ]
  },
  {
   "cell_type": "markdown",
   "id": "fbb753e2-70a5-4353-a222-5f60a78fa1b2",
   "metadata": {
    "tags": []
   },
   "source": [
    "## Print Statement"
   ]
  },
  {
   "cell_type": "markdown",
   "id": "44782dbe-c620-4f42-b175-917acc5815f3",
   "metadata": {
    "tags": []
   },
   "source": [
    "### Just Print"
   ]
  },
  {
   "cell_type": "code",
   "execution_count": null,
   "id": "dee5ffc5-6cb8-4d36-b942-69d236c2ea85",
   "metadata": {
    "tags": []
   },
   "outputs": [],
   "source": [
    "def factorial(n):\n",
    "    if n < 0:\n",
    "        return None\n",
    "    if n == 0:\n",
    "        return 1\n",
    "    \n",
    "    result = 1\n",
    "    for i in range(1, n):\n",
    "        result *= i\n",
    "    \n",
    "    return result\n",
    "\n",
    "# Testing the factorial function\n",
    "num = 5\n",
    "print(f'Calculating factorial of {num}')\n",
    "result = factorial(num)\n",
    "print(f'Factorial of {num} is {result}')\n"
   ]
  },
  {
   "cell_type": "code",
   "execution_count": null,
   "id": "51226702-daf7-473a-a066-aca48f78f160",
   "metadata": {
    "tags": []
   },
   "outputs": [],
   "source": [
    "def factorial(n):\n",
    "    if n < 0:\n",
    "        print('Factorial is not defined for negative numbers.')\n",
    "        return None\n",
    "    \n",
    "    if n == 0:\n",
    "        print('Factorial of 0 is 1 by definition.')\n",
    "        return 1\n",
    "    \n",
    "    result = 1\n",
    "    for i in range(1, n):\n",
    "        result *= i\n",
    "        print(f'Intermediate result after {i} iterations: {result}')\n",
    "    \n",
    "    return result\n",
    "\n",
    "# Testing the factorial function\n",
    "num = 5\n",
    "print(f'Calculating factorial of {num}')\n",
    "result = factorial(num)\n",
    "print(f'Factorial of {num} is {result}')\n"
   ]
  },
  {
   "cell_type": "code",
   "execution_count": null,
   "id": "8ab0cee5-0a1c-48e6-893a-d2be7ef02156",
   "metadata": {
    "tags": []
   },
   "outputs": [],
   "source": [
    "def factorial(n):\n",
    "    if n < 0:\n",
    "        print('Factorial is not defined for negative numbers.')\n",
    "        return None\n",
    "    \n",
    "    if n == 0:\n",
    "        print('Factorial of 0 is 1 by definition.')\n",
    "        return 1\n",
    "    \n",
    "    result = 1\n",
    "    for i in range(1, n+1):\n",
    "        result *= i\n",
    "        print(f'Intermediate result after {i} iterations: {result}')\n",
    "    \n",
    "    return result\n",
    "\n",
    "# Testing the factorial function\n",
    "num = 5\n",
    "print(f'Calculating factorial of {num}')\n",
    "result = factorial(num)\n",
    "print(f'Factorial of {num} is {result}')\n"
   ]
  },
  {
   "cell_type": "code",
   "execution_count": null,
   "id": "150fabee-bd25-4a28-b57c-1257553300c7",
   "metadata": {
    "tags": []
   },
   "outputs": [],
   "source": [
    "def fibonacci(n):\n",
    "    if n < 0:\n",
    "        print('Fibonacci sequence is not defined for negative indices.')\n",
    "        return None\n",
    "    \n",
    "    if n == 0:\n",
    "        print('\\tF(0) is defined as 0.')\n",
    "        return 0\n",
    "    \n",
    "    if n == 1:\n",
    "        print('\\tF(1) is defined as 1.')\n",
    "        return 1\n",
    "    \n",
    "    print(f'----Calculating F({n})----')\n",
    "    \n",
    "    # Recursive calls\n",
    "    fib_n_minus_1 = fibonacci(n - 1)\n",
    "    fib_n_minus_2 = fibonacci(n - 2)\n",
    "    \n",
    "    result = fib_n_minus_1 + fib_n_minus_2\n",
    "    print(f'\\tF({n}) = F({n - 1}) + F({n - 2}) = {fib_n_minus_1} + {fib_n_minus_2} = {result}')\n",
    "    \n",
    "    return result\n",
    "\n",
    "# Testing the Fibonacci function\n",
    "num = 5\n",
    "print(f'Calculating Fibonacci sequence up to {num}th number')\n",
    "for i in range(num + 1):\n",
    "    fib_i = fibonacci(i)\n",
    "    print(f'\\tF({i}) = {fib_i}')\n"
   ]
  },
  {
   "cell_type": "markdown",
   "id": "9132845c-4c71-4219-98a8-318e51c26ef9",
   "metadata": {
    "tags": []
   },
   "source": [
    "### IceCream"
   ]
  },
  {
   "cell_type": "code",
   "execution_count": null,
   "id": "809daf1e-9874-4fee-9de6-263266f0c444",
   "metadata": {
    "tags": []
   },
   "outputs": [],
   "source": [
    "def sum_of_natural_numbers(n):\n",
    "    print(n)\n",
    "    total = 0\n",
    "    for i in range(1, n + 1):\n",
    "        total += i\n",
    "        #print(i, total)\n",
    "        #print(f'i: {i} total: {total}')\n",
    "    return total\n",
    "\n",
    "n = 5\n",
    "result = sum_of_natural_numbers(n)\n",
    "print(result)"
   ]
  },
  {
   "cell_type": "code",
   "execution_count": null,
   "id": "0359bd5a-e717-4c5e-92c2-9a85fac934bb",
   "metadata": {
    "tags": []
   },
   "outputs": [],
   "source": [
    "#!pip install icecream\n",
    "#!pip install -U executing"
   ]
  },
  {
   "cell_type": "code",
   "execution_count": null,
   "id": "944e87e4-fff4-491b-b01d-b6625f8de35f",
   "metadata": {
    "tags": []
   },
   "outputs": [],
   "source": [
    "from icecream import install\n",
    "install()"
   ]
  },
  {
   "cell_type": "code",
   "execution_count": null,
   "id": "af0dbdab-9edd-4e87-94b8-4da05bfd7342",
   "metadata": {
    "tags": []
   },
   "outputs": [],
   "source": [
    "def sum_of_natural_numbers(n):\n",
    "    #ic(n)\n",
    "    total = 0\n",
    "    for i in range(1, n + 1):\n",
    "        total += i\n",
    "        #ic(i, total)\n",
    "    return total"
   ]
  },
  {
   "cell_type": "code",
   "execution_count": null,
   "id": "6917ac72-6e11-4739-b8fb-d57d3ace39f6",
   "metadata": {
    "tags": []
   },
   "outputs": [],
   "source": [
    "n = 5\n",
    "result = sum_of_natural_numbers(n)\n",
    "ic(result)"
   ]
  },
  {
   "cell_type": "code",
   "execution_count": null,
   "id": "f77ae517-53ad-40f0-a8f1-972e0888512b",
   "metadata": {},
   "outputs": [],
   "source": [
    "ic(sum_of_natural_numbers(4))"
   ]
  },
  {
   "cell_type": "code",
   "execution_count": null,
   "id": "c6864132-8602-4733-b73e-5b03154bcbbb",
   "metadata": {
    "tags": []
   },
   "outputs": [],
   "source": [
    "expression = True\n",
    "\n",
    "def foo():\n",
    "    ic()\n",
    "    #do something first\n",
    "\n",
    "    if expression:\n",
    "        ic()\n",
    "        #do something second\n",
    "    else:\n",
    "        ic()\n",
    "        #do something third\n",
    "        \n",
    "foo()"
   ]
  },
  {
   "cell_type": "code",
   "execution_count": null,
   "id": "6bbb9141-0515-4249-9835-1d98a26ff4b6",
   "metadata": {
    "tags": []
   },
   "outputs": [],
   "source": [
    "ic(1)\n",
    "\n",
    "ic.disable()\n",
    "ic(2)\n",
    "\n",
    "ic.enable()\n",
    "ic(3)"
   ]
  },
  {
   "cell_type": "markdown",
   "id": "3364f943-3612-47d4-afbf-a1387dc977a6",
   "metadata": {
    "tags": []
   },
   "source": [
    "## Try, Except"
   ]
  },
  {
   "cell_type": "code",
   "execution_count": null,
   "id": "1d21ef87-3358-4b81-bfea-81f7cc6b2f8f",
   "metadata": {
    "tags": []
   },
   "outputs": [],
   "source": [
    "# Clinical data\n",
    "patient_weight = 110  #kg\n",
    "patient_height = 0  #m -> height can't be 0\n",
    "\n",
    "#general exception\n",
    "try:\n",
    "    bmi = patient_weight / (patient_height ** 2)\n",
    "except:\n",
    "    print('height cannot be zero')"
   ]
  },
  {
   "cell_type": "code",
   "execution_count": null,
   "id": "45e8fafa-5126-4e5a-b377-630e9902e0d8",
   "metadata": {
    "tags": []
   },
   "outputs": [],
   "source": [
    "#can specify which error gets caught\n",
    "#won't catch unspecified errors\n",
    "\n",
    "# Clinical data\n",
    "patient_weight = '110'  #kg\n",
    "patient_height = 0  #m -> height can't be 0\n",
    "\n",
    "try:\n",
    "    bmi = patient_weight / (patient_height ** 2)\n",
    "except ZeroDivisionError:\n",
    "    print('height cannot be zero')"
   ]
  },
  {
   "cell_type": "code",
   "execution_count": null,
   "id": "8b873a4a-dac4-4c0f-89c5-41e9d2feedcc",
   "metadata": {
    "tags": []
   },
   "outputs": [],
   "source": [
    "#syntax error\n",
    "\n",
    "# Clinical data\n",
    "patient_weight = '110'  #kg\n",
    "#patient_weight = 110\n",
    "patient_height = 0  #m -> height can't be 0\n",
    "\n",
    "try:\n",
    "    bmi = patient_weight / (patient_height ** 2)\n",
    "    print(bmi]\n",
    "except ZeroDivisionError:\n",
    "    print('height cannot be zero')\n",
    "except TypeError:\n",
    "    print('check your data types!')\n",
    "except:\n",
    "    print('some other error occurred')"
   ]
  },
  {
   "cell_type": "code",
   "execution_count": null,
   "id": "083c865b-6ad1-49c0-a152-67da402de09c",
   "metadata": {
    "tags": []
   },
   "outputs": [],
   "source": [
    "# Clinical data\n",
    "patient_weight = '110'  #kg\n",
    "#patient_weight = 110\n",
    "patient_height = 0  #m -> height can't be 0\n",
    "\n",
    "try:\n",
    "    print(bmi)\n",
    "    bmi = patient_weight / (patient_height ** 2)\n",
    "except ZeroDivisionError:\n",
    "    print('height cannot be zero')\n",
    "except TypeError:\n",
    "    print('check your data types!')\n",
    "except:\n",
    "    print('some other error occurred')"
   ]
  },
  {
   "cell_type": "code",
   "execution_count": null,
   "id": "ee4b8d9f-3928-427c-8289-83a752483e79",
   "metadata": {
    "tags": []
   },
   "outputs": [],
   "source": [
    "# Clinical data\n",
    "patient_weight = '110'  #kg\n",
    "#patient_weight = 110\n",
    "patient_height = 0  #m -> height can't be 0\n",
    "\n",
    "try:\n",
    "    print(bmi)\n",
    "    bmi = patient_weight / (patient_height ** 2)\n",
    "except ZeroDivisionError:\n",
    "    print('height cannot be zero')\n",
    "except TypeError:\n",
    "    print('check your data types!')\n",
    "except Exception as e:\n",
    "    print('some other error occurred:', e)"
   ]
  },
  {
   "cell_type": "code",
   "execution_count": null,
   "id": "42a072fe-b4e7-4cba-a689-5be740ed642e",
   "metadata": {
    "tags": []
   },
   "outputs": [],
   "source": [
    "# Clinical data\n",
    "patient_weight = '110'  #kg\n",
    "#patient_weight = 110\n",
    "patient_height = 0  #m -> height can't be 0\n",
    "\n",
    "try:\n",
    "    print(bmi)\n",
    "    bmi = patient_weight / (patient_height ** 2)\n",
    "except ZeroDivisionError:\n",
    "    print('height cannot be zero')\n",
    "except TypeError:\n",
    "    print('check your data types!')\n",
    "except Exception as e:\n",
    "    print('some other error occurred:', e)\n",
    "finally:\n",
    "    print('after everything')"
   ]
  },
  {
   "cell_type": "code",
   "execution_count": null,
   "id": "11ec7aeb-0098-4fa9-8739-c6e145e8ede3",
   "metadata": {
    "tags": []
   },
   "outputs": [],
   "source": [
    "# Clinical data\n",
    "patient_weight = '110'  #kg\n",
    "#patient_weight = 110\n",
    "patient_height = 0  #m -> height can't be 0\n",
    "\n",
    "try:\n",
    "    print(bmi)\n",
    "    bmi = patient_weight / (patient_height ** 2)\n",
    "except ZeroDivisionError:\n",
    "    print('height cannot be zero')\n",
    "except TypeError:\n",
    "    print('check your data types!')\n",
    "except Exception as e:\n",
    "    print('some other error occurred:', e)\n",
    "else:\n",
    "    print('no error')\n",
    "finally:\n",
    "    print('after everything')"
   ]
  },
  {
   "cell_type": "markdown",
   "id": "7089e551-1f3b-4739-8e34-35acff010213",
   "metadata": {
    "tags": []
   },
   "source": [
    "## Assertions"
   ]
  },
  {
   "cell_type": "code",
   "execution_count": null,
   "id": "f5abbf4c-dd68-4fe9-ad5c-d08cd7a52826",
   "metadata": {},
   "outputs": [],
   "source": [
    "def calculate_average(numbers):\n",
    "    # Check if the input list is not empty\n",
    "    assert len(numbers) > 0, 'Input list should not be empty'\n",
    "    assert isinstance(numbers, list), 'Input should be a list'\n",
    "    \n",
    "    # Calculate the average\n",
    "    average = sum(numbers) / len(numbers)\n",
    "    return average"
   ]
  },
  {
   "cell_type": "code",
   "execution_count": null,
   "id": "778fa340-3bb4-4271-9f4c-fa9436a168d5",
   "metadata": {},
   "outputs": [],
   "source": [
    "# Test the function\n",
    "data = [10, 20, 30, 40, 50]\n",
    "result = calculate_average(data)\n",
    "print(f'Average: {result}')"
   ]
  },
  {
   "cell_type": "code",
   "execution_count": null,
   "id": "18f90147-d4b2-4d1d-8c82-ad0dbd1a46f9",
   "metadata": {},
   "outputs": [],
   "source": [
    "# Test the function\n",
    "data = []\n",
    "result = calculate_average(data)\n",
    "print(f'Average: {result}')"
   ]
  },
  {
   "cell_type": "code",
   "execution_count": null,
   "id": "036191f1-d177-403a-bde8-f1878f3768f9",
   "metadata": {},
   "outputs": [],
   "source": [
    "# Test the function\n",
    "data = 'a random string'\n",
    "result = calculate_average(data)\n",
    "print(f'Average: {result}')"
   ]
  },
  {
   "cell_type": "markdown",
   "id": "045675dd-664c-4298-b667-5de4b61d50bc",
   "metadata": {
    "tags": []
   },
   "source": [
    "## Debugger"
   ]
  },
  {
   "cell_type": "code",
   "execution_count": null,
   "id": "93ff1c47-ae74-485e-9fd8-8a02bcd76872",
   "metadata": {
    "tags": []
   },
   "outputs": [],
   "source": [
    "def factorial(n):\n",
    "    if n == 0:\n",
    "        return 1\n",
    "    else:\n",
    "        return n * factorial(n - 1)\n",
    "\n",
    "def sum_of_natural_numbers(n):\n",
    "    if n == 0:\n",
    "        return 0\n",
    "    else:\n",
    "        return n + sum_of_natural_numbers(n - 1)\n",
    "\n",
    "# Calculate factorial and sum of natural numbers\n",
    "num = 5\n",
    "fact_result = factorial(num)\n",
    "sum_result = sum_of_natural_numbers(num)\n",
    "\n",
    "print(f\"Factorial of {num} is {fact_result}\")\n",
    "print(f\"Sum of natural numbers up to {num} is {sum_result}\")\n"
   ]
  },
  {
   "cell_type": "code",
   "execution_count": null,
   "id": "1fecc7c5-711e-41ab-81ac-d1b61de2be27",
   "metadata": {
    "tags": []
   },
   "outputs": [],
   "source": [
    "def greet(name):\n",
    "    return f\"Hello, {name}!\"\n",
    "\n",
    "def greet_and_ask_age(name):\n",
    "    greeting = greet(name)\n",
    "    return f\"{greeting}\"\n",
    "\n",
    "# Call the greet_and_ask_age function\n",
    "name = \"Alice\"\n",
    "result = greet_and_ask_age(name)\n",
    "print(result)\n"
   ]
  },
  {
   "cell_type": "markdown",
   "id": "cfcdbbec-3d92-4971-ae8c-442e4cc3af9c",
   "metadata": {},
   "source": [
    "# Lambda Functions"
   ]
  },
  {
   "cell_type": "code",
   "execution_count": null,
   "id": "a4484c64-dc2b-449a-8a6f-1f05e54ee7a0",
   "metadata": {
    "tags": []
   },
   "outputs": [],
   "source": [
    "add = lambda x, y: x + y\n",
    "\n",
    "result = add(3, 5)\n",
    "print(result)"
   ]
  },
  {
   "cell_type": "code",
   "execution_count": null,
   "id": "1f38c8d0-8c92-4906-9ace-4c711cff09d6",
   "metadata": {
    "tags": []
   },
   "outputs": [],
   "source": [
    "data = [(1, 3), (2, 1), (4, 2)]\n",
    "\n",
    "sorted_data = sorted(data)\n",
    "print(sorted_data)"
   ]
  },
  {
   "cell_type": "code",
   "execution_count": null,
   "id": "780a8966-2ff9-468a-b2d2-46b3dfa9eeb8",
   "metadata": {
    "tags": []
   },
   "outputs": [],
   "source": [
    "def sort_by_first(row):\n",
    "    return row[1]\n",
    "\n",
    "data = [(1, 3), (2, 1), (4, 2)]\n",
    "\n",
    "sorted_data = sorted(data, key=sort_by_first)\n",
    "print(sorted_data)"
   ]
  },
  {
   "cell_type": "code",
   "execution_count": null,
   "id": "8ea84c9e-21ee-4c7f-8a91-6a0b4b599287",
   "metadata": {
    "tags": []
   },
   "outputs": [],
   "source": [
    "data = [(1, 3), (2, 1), (4, 2)]\n",
    "\n",
    "sorted_data = sorted(data, key=lambda x: x[1])\n",
    "print(sorted_data)"
   ]
  },
  {
   "cell_type": "code",
   "execution_count": null,
   "id": "848616c3-2b11-4179-a248-e98f4b7eefee",
   "metadata": {
    "tags": []
   },
   "outputs": [],
   "source": [
    "import pandas as pd\n",
    "\n",
    "data = {\n",
    "    'Name': ['Alice', 'Bob', 'Charlie', 'David'],\n",
    "    'Salary': [50000, 60000, 75000, 40000],\n",
    "}\n",
    "\n",
    "df = pd.DataFrame(data)\n",
    "df['Bonus'] = df['Salary'].apply(lambda x: x * 0.10)\n",
    "\n",
    "df"
   ]
  }
 ],
 "metadata": {
  "kernelspec": {
   "display_name": "Python 3 (ipykernel)",
   "language": "python",
   "name": "python3"
  },
  "language_info": {
   "codemirror_mode": {
    "name": "ipython",
    "version": 3
   },
   "file_extension": ".py",
   "mimetype": "text/x-python",
   "name": "python",
   "nbconvert_exporter": "python",
   "pygments_lexer": "ipython3",
   "version": "3.11.3"
  },
  "toc-autonumbering": false,
  "toc-showtags": false
 },
 "nbformat": 4,
 "nbformat_minor": 5
}
