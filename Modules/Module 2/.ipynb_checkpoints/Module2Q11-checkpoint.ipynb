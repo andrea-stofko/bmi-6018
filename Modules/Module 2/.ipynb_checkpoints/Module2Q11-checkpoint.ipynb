{
 "cells": [
  {
   "cell_type": "code",
   "execution_count": 33,
   "id": "fb5c6a34-f265-4e9d-8ffe-f5655b413be9",
   "metadata": {},
   "outputs": [],
   "source": [
    "#Code for Module 2 Assignment\n"
   ]
  },
  {
   "cell_type": "code",
   "execution_count": 34,
   "id": "2e88c5c9-5770-49b7-aed4-48cd065d9b9b",
   "metadata": {},
   "outputs": [
    {
     "name": "stdout",
     "output_type": "stream",
     "text": [
      "2\n"
     ]
    }
   ],
   "source": [
    "#Question 1 (Booleans) - boolean True + boolean True - boolean False = ? \n",
    "\n",
    "print(bool(True) + bool(True) - bool(False))\n"
   ]
  },
  {
   "cell_type": "code",
   "execution_count": 20,
   "id": "ae418d70-cc75-4681-bfd7-2f224097d8b3",
   "metadata": {},
   "outputs": [
    {
     "name": "stdout",
     "output_type": "stream",
     "text": [
      "1\n"
     ]
    }
   ],
   "source": [
    "\n",
    "#Question 2 (Booleans2) - Logic Tracker\n",
    "\n",
    "logical_tracker = True #this = 1\n",
    "\n",
    "logical_tracker = logical_tracker & logical_tracker #& operator sets each bit to 1 if both bits are 1\n",
    "\n",
    "logical_tracker = logical_tracker | (logical_tracker - logical_tracker) #variable = 1 or 0, | sets both bits to 1 if one or the other is 1\n",
    "\n",
    "print(logical_tracker)"
   ]
  },
  {
   "cell_type": "code",
   "execution_count": 27,
   "id": "be779c49-b0eb-4eb6-9139-ad758ddbd8d7",
   "metadata": {},
   "outputs": [
    {
     "data": {
      "text/plain": [
       "' '"
      ]
     },
     "execution_count": 27,
     "metadata": {},
     "output_type": "execute_result"
    }
   ],
   "source": [
    "#Question 5 (Strings) - string = \"E. Coli\", string[2]=?\n",
    "\n",
    "string = \"E. Coli\"\n",
    "\n",
    "string[2]"
   ]
  },
  {
   "cell_type": "code",
   "execution_count": 32,
   "id": "5f92ffb9-467e-48e4-8ae1-cdfea2c6be10",
   "metadata": {
    "scrolled": true
   },
   "outputs": [
    {
     "ename": "TypeError",
     "evalue": "'str' object does not support item assignment",
     "output_type": "error",
     "traceback": [
      "\u001b[0;31m---------------------------------------------------------------------------\u001b[0m",
      "\u001b[0;31mTypeError\u001b[0m                                 Traceback (most recent call last)",
      "Cell \u001b[0;32mIn[32], line 5\u001b[0m\n\u001b[1;32m      1\u001b[0m \u001b[38;5;66;03m#Question 6 - \"I bove python\"\u001b[39;00m\n\u001b[1;32m      3\u001b[0m string \u001b[38;5;241m=\u001b[39m \u001b[38;5;124m\"\u001b[39m\u001b[38;5;124mI Bove python\u001b[39m\u001b[38;5;124m\"\u001b[39m\n\u001b[0;32m----> 5\u001b[0m \u001b[43mstring\u001b[49m\u001b[43m[\u001b[49m\u001b[38;5;241;43m2\u001b[39;49m\u001b[43m]\u001b[49m\u001b[38;5;241m=\u001b[39m\u001b[38;5;124m\"\u001b[39m\u001b[38;5;124mL\u001b[39m\u001b[38;5;124m\"\u001b[39m \u001b[38;5;66;03m#this produced an error\u001b[39;00m\n",
      "\u001b[0;31mTypeError\u001b[0m: 'str' object does not support item assignment"
     ]
    }
   ],
   "source": [
    "#Question 6 (Strings2) - \"I bove python\"\n",
    "\n",
    "string = \"I Bove python\"\n",
    "\n",
    "string[2]=\"L\" #remember that strings are immutable\n"
   ]
  },
  {
   "cell_type": "code",
   "execution_count": 37,
   "id": "81ff1b04-64b8-47fc-b873-9dd028b99ea9",
   "metadata": {},
   "outputs": [
    {
     "name": "stdout",
     "output_type": "stream",
     "text": [
      "10\n",
      "73\n",
      "7 doctors\n"
     ]
    }
   ],
   "source": [
    "#Question 9 (Operators 2) - Explain how the \"+\", addition operation works differently for integers and strings.\n",
    "\n",
    "#for integers:\n",
    "print(7+3)\n",
    "\n",
    "#for strings:\n",
    "print(\"7\" + \"3\")\n",
    "print(\"7\" + \" doctors\")\n"
   ]
  },
  {
   "cell_type": "code",
   "execution_count": 35,
   "id": "8fc006f1-da77-43b0-98f0-efda79a00f44",
   "metadata": {},
   "outputs": [
    {
     "name": "stdout",
     "output_type": "stream",
     "text": [
      "73\n"
     ]
    }
   ],
   "source": [
    "#Question 10 (String 3) - Type the output if the strings \"7\" and \"3\" are added\n",
    "\n",
    "print(str(7) + str(3))"
   ]
  }
 ],
 "metadata": {
  "kernelspec": {
   "display_name": "Python 3 (ipykernel)",
   "language": "python",
   "name": "python3"
  },
  "language_info": {
   "codemirror_mode": {
    "name": "ipython",
    "version": 3
   },
   "file_extension": ".py",
   "mimetype": "text/x-python",
   "name": "python",
   "nbconvert_exporter": "python",
   "pygments_lexer": "ipython3",
   "version": "3.12.5"
  }
 },
 "nbformat": 4,
 "nbformat_minor": 5
}
