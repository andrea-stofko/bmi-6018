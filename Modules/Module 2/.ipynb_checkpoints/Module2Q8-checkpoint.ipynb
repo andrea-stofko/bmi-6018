{
 "cells": [
  {
   "cell_type": "code",
   "execution_count": 4,
   "id": "3b4afcbe-f88f-423a-97ac-b77ef5bf3b35",
   "metadata": {},
   "outputs": [
    {
     "name": "stdout",
     "output_type": "stream",
     "text": [
      "24.034609838166958\n"
     ]
    }
   ],
   "source": [
    "#Susan has a weight of 60 kilograms and a height of 1.58 meters. Write Code to Calculate and Print Susan’s Body Mass Index as float.\n",
    "\n",
    "#calculate bmi = weight (kg)/[height (m)]2\n",
    "\n",
    "weight = 60\n",
    "height = 1.58\n",
    "\n",
    "bmi = weight/(height**2)\n",
    "print(bmi)"
   ]
  }
 ],
 "metadata": {
  "kernelspec": {
   "display_name": "Python 3 (ipykernel)",
   "language": "python",
   "name": "python3"
  },
  "language_info": {
   "codemirror_mode": {
    "name": "ipython",
    "version": 3
   },
   "file_extension": ".py",
   "mimetype": "text/x-python",
   "name": "python",
   "nbconvert_exporter": "python",
   "pygments_lexer": "ipython3",
   "version": "3.12.5"
  }
 },
 "nbformat": 4,
 "nbformat_minor": 5
}
