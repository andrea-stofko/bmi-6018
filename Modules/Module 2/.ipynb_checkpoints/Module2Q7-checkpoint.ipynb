{
 "cells": [
  {
   "cell_type": "code",
   "execution_count": 2,
   "id": "b8fe94e2-c700-4c4e-a1f6-c45a5a94aeef",
   "metadata": {},
   "outputs": [
    {
     "name": "stdout",
     "output_type": "stream",
     "text": [
      "<class 'int'>\n"
     ]
    }
   ],
   "source": [
    "#Jack has been prescribed 5 medications, write a variable named \"Medication\",\n",
    "#and store in it the number of medications he has. Print the type of the variable ''Medication\"\n",
    "\n",
    "medication = 5\n",
    "\n",
    "print(type(medication)) #type = int"
   ]
  }
 ],
 "metadata": {
  "kernelspec": {
   "display_name": "Python 3 (ipykernel)",
   "language": "python",
   "name": "python3"
  },
  "language_info": {
   "codemirror_mode": {
    "name": "ipython",
    "version": 3
   },
   "file_extension": ".py",
   "mimetype": "text/x-python",
   "name": "python",
   "nbconvert_exporter": "python",
   "pygments_lexer": "ipython3",
   "version": "3.12.5"
  }
 },
 "nbformat": 4,
 "nbformat_minor": 5
}
