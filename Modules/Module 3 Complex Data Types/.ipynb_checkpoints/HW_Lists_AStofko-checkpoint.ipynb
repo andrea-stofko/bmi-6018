{
 "cells": [
  {
   "cell_type": "code",
   "execution_count": 166,
   "id": "c6852b9f-49af-411a-8aa0-abe3836209fc",
   "metadata": {},
   "outputs": [
    {
     "name": "stdout",
     "output_type": "stream",
     "text": [
      "Assignment 3\n"
     ]
    }
   ],
   "source": [
    "print(\"Assignment 3\")"
   ]
  },
  {
   "cell_type": "code",
   "execution_count": 4,
   "id": "367710fd",
   "metadata": {},
   "outputs": [],
   "source": [
    "#Problem 1: Lists, Sets and Coersion\n",
    "\n",
    "#1.a Create a list of integers no fewer than 10 items from 0 to 9.\n",
    "# .b Add 3 to the 5th indexed element\n",
    "# .c Coerce all elements in the list to floats using list comprehension\n",
    "# .d Coerce the list to a set\n",
    "# .e Using a method, append int 10 to the set\n",
    "# .f Using a method, pop an item from the set\n",
    "# .g Using a length counting function, count the number of items in the set\n",
    "# .h Check if the number of items in the set is the same as the \n",
    "#    number of items in the list\n",
    "# .i Coerce the set to a list and use the \"+\" operator combine the list to the list from 1.a\n",
    "# .j Coerce 1.i to a set\n",
    "# .k Count the number of elements in the 1.j\"\"\"\n"
   ]
  },
  {
   "cell_type": "code",
   "execution_count": 1,
   "id": "84802c6e-4e81-41e3-83e5-3e2bb7cad65c",
   "metadata": {},
   "outputs": [
    {
     "name": "stdout",
     "output_type": "stream",
     "text": [
      "[0, 1, 2, 3, 4, 5, 6, 7, 8, 9]\n"
     ]
    }
   ],
   "source": [
    "#1.a Create a list of integers no fewer than 10 items from 0 to 9.\n",
    "one_a = [0,1,2,3,4,5,6,7,8,9]\n",
    "print(one_a)"
   ]
  },
  {
   "cell_type": "code",
   "execution_count": 3,
   "id": "417d564f-4f24-469f-8dce-1e41380fa9fb",
   "metadata": {},
   "outputs": [
    {
     "name": "stdout",
     "output_type": "stream",
     "text": [
      "[0, 1, 2, 3, 3, 4, 5, 6, 7, 8, 9]\n"
     ]
    }
   ],
   "source": [
    "#.b Add 3 to the 5th indexed element\n",
    "one_b = list(one_a)\n",
    "one_b.insert(4,3)\n",
    "print(one_b)"
   ]
  },
  {
   "cell_type": "code",
   "execution_count": 4,
   "id": "3f7b1093-2d6f-4742-ad1f-e8691ba35ce7",
   "metadata": {},
   "outputs": [
    {
     "name": "stdout",
     "output_type": "stream",
     "text": [
      "[0.0, 1.0, 2.0, 3.0, 3.0, 4.0, 5.0, 6.0, 7.0, 8.0, 9.0]\n"
     ]
    }
   ],
   "source": [
    "# .c Coerce all elements in the list to floats using list comprehension\n",
    "one_c = [float(i) for i in one_b]\n",
    "print(one_c)"
   ]
  },
  {
   "cell_type": "code",
   "execution_count": 5,
   "id": "57475d9a-667e-496c-ab53-00af49b932da",
   "metadata": {},
   "outputs": [
    {
     "name": "stdout",
     "output_type": "stream",
     "text": [
      "{0.0, 1.0, 2.0, 3.0, 4.0, 5.0, 6.0, 7.0, 8.0, 9.0}\n"
     ]
    }
   ],
   "source": [
    "#.d Coerce the list to a set\n",
    "one_d = set(one_c)\n",
    "print(one_d) #sets do not allow duplicate values"
   ]
  },
  {
   "cell_type": "code",
   "execution_count": 6,
   "id": "40147d3a-bf5b-42cb-8cb1-e16f9012839f",
   "metadata": {},
   "outputs": [
    {
     "name": "stdout",
     "output_type": "stream",
     "text": [
      "{0.0, 1.0, 2.0, 3.0, 4.0, 5.0, 6.0, 7.0, 8.0, 9.0, 10}\n"
     ]
    }
   ],
   "source": [
    "#.e Using a method, append int 10 to the set\n",
    "one_e = set(one_d)\n",
    "one_e.add(10)\n",
    "print(one_e)"
   ]
  },
  {
   "cell_type": "code",
   "execution_count": 7,
   "id": "06792992-4262-4f56-9975-f65434d50056",
   "metadata": {},
   "outputs": [
    {
     "name": "stdout",
     "output_type": "stream",
     "text": [
      "{0.0, 2.0, 3.0, 4.0, 5.0, 6.0, 7.0, 8.0, 9.0, 10}\n"
     ]
    }
   ],
   "source": [
    "# .f Using a method, pop an item from the set\n",
    "one_f = set(one_e)\n",
    "one_f.remove(1)\n",
    "print(one_f)"
   ]
  },
  {
   "cell_type": "code",
   "execution_count": 8,
   "id": "055af639-a820-4ad3-8994-184b838f0f4c",
   "metadata": {},
   "outputs": [
    {
     "name": "stdout",
     "output_type": "stream",
     "text": [
      "10\n"
     ]
    }
   ],
   "source": [
    "# .g Using a length counting function, count the number of items in the set\n",
    "one_g = len((one_f))\n",
    "print(one_g)"
   ]
  },
  {
   "cell_type": "code",
   "execution_count": 10,
   "id": "ac02774c-a6b6-44ce-a842-15049c555ed0",
   "metadata": {},
   "outputs": [
    {
     "name": "stdout",
     "output_type": "stream",
     "text": [
      "10\n",
      "the set has the same number of items as the original list\n"
     ]
    }
   ],
   "source": [
    "# .h Check if the number of items in the set is the same as the number of items in the list\n",
    "one_h = len((one_a))\n",
    "print (one_h) \n",
    "print (\"the set has the same number of items as the original list\")"
   ]
  },
  {
   "cell_type": "code",
   "execution_count": 11,
   "id": "56de430f-95b6-479c-b8eb-a90503349d41",
   "metadata": {},
   "outputs": [
    {
     "name": "stdout",
     "output_type": "stream",
     "text": [
      "[0.0, 2.0, 3.0, 4.0, 5.0, 6.0, 7.0, 8.0, 9.0, 10, 0, 1, 2, 3, 4, 5, 6, 7, 8, 9]\n"
     ]
    }
   ],
   "source": [
    "#.i Coerce the set to a list and use the \"+\" operator combine the list to the list from 1.a\n",
    "one_i = list(one_f) + one_a\n",
    "print(one_i)"
   ]
  },
  {
   "cell_type": "code",
   "execution_count": 12,
   "id": "10628046-3dbb-4cd3-8132-664dbca8c6db",
   "metadata": {},
   "outputs": [
    {
     "name": "stdout",
     "output_type": "stream",
     "text": [
      "{0.0, 1, 2.0, 3.0, 4.0, 5.0, 6.0, 7.0, 8.0, 9.0, 10}\n"
     ]
    }
   ],
   "source": [
    "#.j Coerce 1.i to a set\n",
    "one_j = set(one_i)\n",
    "print(one_j)"
   ]
  },
  {
   "cell_type": "code",
   "execution_count": 13,
   "id": "710272c2-a0f0-41af-a1e1-13e8e561d478",
   "metadata": {},
   "outputs": [
    {
     "name": "stdout",
     "output_type": "stream",
     "text": [
      "11\n"
     ]
    }
   ],
   "source": [
    "# .k Count the number of elements in the 1.j\n",
    "one_k = len(one_j)\n",
    "print(one_k)"
   ]
  },
  {
   "cell_type": "code",
   "execution_count": 14,
   "id": "8ca8cad7-a262-474b-a343-eb637879efa1",
   "metadata": {},
   "outputs": [],
   "source": [
    "\"\"\"\n",
    "Problem 2: Dictionary woes\n",
    "2.a Combine the three sample dictionaries (given below) into a nested dictionary (nested in programming means joined), named \n",
    "    two_a, ensure the key names are the same as the dictionary names.\n",
    " .b Using keys, retrieve the Dango's name from 2.a\n",
    " .c Using keys, update the value of Mochi's year to 2018. This should not be a variable\n",
    "    and should simply update 2.a.\n",
    " .d Manually create a dictionary that has a single level and contains each patient\n",
    "    as the key and the year as the value. Set Mochi's year to 2019.'\n",
    " .e Coerce the keys of 2.d into a list\n",
    " .f Coerce the values of 2.d into a list\n",
    " .g Use the zip function to combine 2.e and 2.f into a dictionary again\n",
    "\"\"\"\n",
    "\n",
    "#run this first*******\n",
    "two_patient_dictionary_kinoko = {\n",
    "  \"name\" : \"Kinoko\",\n",
    "  \"year\" : 2021\n",
    "}\n",
    "two_patient_dictionary_dango = {\n",
    "  \"name\" : \"Dango\",\n",
    "  \"year\" : 2019\n",
    "}\n",
    "two_patient_dictionary_mochi  = {\n",
    "  \"name\" : \"Mochi\",\n",
    "  \"year\" : 2020\n",
    "}\n"
   ]
  },
  {
   "cell_type": "code",
   "execution_count": 15,
   "id": "27cc6108-1fd1-4695-bc8d-48518cc4f8fa",
   "metadata": {},
   "outputs": [
    {
     "name": "stdout",
     "output_type": "stream",
     "text": [
      "{'two_patient_dictionary_kinoko': {'name': 'Kinoko', 'year': '2021'}, 'two_patient_dictionary_dango': {'name': 'Dango', 'year': '2019'}, 'two_patient_dictionary_mochi': {'name': 'Mochi', 'year': '2020'}}\n"
     ]
    }
   ],
   "source": [
    "#2.a Combine the three sample dictionaries (given below) into a nested dictionary (nested in programming means joined), named \n",
    "#two_a, ensure the key names are the same as the dictionary names.\n",
    "\n",
    "two_a = {'two_patient_dictionary_kinoko':{'name':'Kinoko', 'year':'2021'},\n",
    "         'two_patient_dictionary_dango':{'name':\"Dango\", 'year':'2019'},\n",
    "         'two_patient_dictionary_mochi':{'name':\"Mochi\", 'year':'2020'} }\n",
    "print(two_a)"
   ]
  },
  {
   "cell_type": "code",
   "execution_count": 16,
   "id": "a4913e19-2671-412b-b046-ebcbd26aef06",
   "metadata": {},
   "outputs": [
    {
     "name": "stdout",
     "output_type": "stream",
     "text": [
      "Dango\n"
     ]
    }
   ],
   "source": [
    "# .b Using keys, retrieve the Dango's name from 2.a\n",
    "two_b = two_a['two_patient_dictionary_dango']['name']\n",
    "print(two_b)"
   ]
  },
  {
   "cell_type": "code",
   "execution_count": 17,
   "id": "44301872-c55c-4825-a432-c35785f2d646",
   "metadata": {},
   "outputs": [
    {
     "name": "stdout",
     "output_type": "stream",
     "text": [
      "{'two_patient_dictionary_kinoko': {'name': 'Kinoko', 'year': '2021'}, 'two_patient_dictionary_dango': {'name': 'Dango', 'year': '2019'}, 'two_patient_dictionary_mochi': {'name': 'Mochi', 'year': '2018'}}\n"
     ]
    }
   ],
   "source": [
    "#.c Using keys, update the value of Mochi's year to 2018. This should not be a variable\n",
    "#    and should simply update 2.a.\n",
    "two_a['two_patient_dictionary_mochi']['year'] = '2018' \n",
    "print(two_a)"
   ]
  },
  {
   "cell_type": "code",
   "execution_count": 18,
   "id": "bc7d30b6-0273-4359-ab37-24db570213c5",
   "metadata": {},
   "outputs": [
    {
     "name": "stdout",
     "output_type": "stream",
     "text": [
      "{'Kinoko': '2021', 'Dango': '2019', 'Mochi': '2019'}\n"
     ]
    }
   ],
   "source": [
    "# .d Manually create a dictionary that has a single level and contains each patient\n",
    "#    as the key and the year as the value. Set Mochi's year to 2019.'\n",
    "two_d = {'Kinoko':'2021', 'Dango':'2019', 'Mochi':'2019'}\n",
    "print(two_d)"
   ]
  },
  {
   "cell_type": "code",
   "execution_count": 19,
   "id": "b8cb54c0-86f6-4cfe-9a0b-fb039c87686e",
   "metadata": {},
   "outputs": [
    {
     "name": "stdout",
     "output_type": "stream",
     "text": [
      "['Kinoko', 'Dango', 'Mochi']\n"
     ]
    }
   ],
   "source": [
    "# .e Coerce the keys of 2.d into a list\n",
    "two_e = list(two_d.keys())\n",
    "print(two_e)"
   ]
  },
  {
   "cell_type": "code",
   "execution_count": 20,
   "id": "2b89eb47-7080-46cb-9794-f8ee8f7bed27",
   "metadata": {},
   "outputs": [
    {
     "name": "stdout",
     "output_type": "stream",
     "text": [
      "['2021', '2019', '2019']\n"
     ]
    }
   ],
   "source": [
    "# .f Coerce the values of 2.d into a list\n",
    "two_f = list(two_d.values())\n",
    "print(two_f)"
   ]
  },
  {
   "cell_type": "code",
   "execution_count": 21,
   "id": "af088135-563a-4d9a-9941-b6542a5f4de7",
   "metadata": {},
   "outputs": [
    {
     "name": "stdout",
     "output_type": "stream",
     "text": [
      "{'Kinoko': '2021', 'Dango': '2019', 'Mochi': '2019'}\n"
     ]
    }
   ],
   "source": [
    "#.g Use the zip function to combine 2.e and 2.f into a dictionary again\n",
    "two_g = dict(zip(two_e, two_f)) #key, then value\n",
    "print(two_g)"
   ]
  },
  {
   "cell_type": "code",
   "execution_count": 23,
   "id": "505cff67-b710-403d-8033-e86d5f65d3bf",
   "metadata": {},
   "outputs": [],
   "source": [
    "\"\"\"\n",
    "Problem 3: Set combinations\n",
    "\n",
    "Given the predefined sets below and using set methods\n",
    "3.a Is set E a subset of set A\n",
    " .b Is set E a strict subset of set A\n",
    " .c Create a set that is the intersection of set A and set B\n",
    " .d Create a set that is the union of sets C, D and E\n",
    " .e add 9 to the set\n",
    " .f Using == compare this set to the list in one_a\n",
    " .g Explain why they are not the same. What would you need to change if you\n",
    "    wanted this to be True? \"\"\"\n",
    "\n",
    "#run this first ************\n",
    "three_setA = {1,2,3,4,5}\n",
    "three_setB = {2,3,4,5,6}\n",
    "three_setC = {3,5,7,9}\n",
    "three_setD = {2,4,6,8}\n",
    "three_setE = {1,2,3,4}\n"
   ]
  },
  {
   "cell_type": "code",
   "execution_count": 24,
   "id": "eb4823c9-fa28-4200-bf6a-1326d75e0f01",
   "metadata": {},
   "outputs": [
    {
     "name": "stdout",
     "output_type": "stream",
     "text": [
      "True\n"
     ]
    }
   ],
   "source": [
    "#3.a Is set E a subset of set A\n",
    "three_a = three_setE.issubset(three_setA)\n",
    "print(three_a)"
   ]
  },
  {
   "cell_type": "code",
   "execution_count": 25,
   "id": "b81f38c5-489e-420c-bac4-e96184ae6d9b",
   "metadata": {},
   "outputs": [
    {
     "name": "stdout",
     "output_type": "stream",
     "text": [
      "Because setA does not equal setE, setE is a strict subset of A\n"
     ]
    }
   ],
   "source": [
    "# .b Is set E a strict subset of set A\n",
    "three_b = three_setA == three_setE\n",
    "#print(three_b) = False\n",
    "print (\"Because setA does not equal setE, setE is a strict subset of A\")"
   ]
  },
  {
   "cell_type": "code",
   "execution_count": 26,
   "id": "96b8ef3f-4e80-4083-aeb9-d274bea85e32",
   "metadata": {},
   "outputs": [
    {
     "name": "stdout",
     "output_type": "stream",
     "text": [
      "{2, 3, 4, 5}\n"
     ]
    }
   ],
   "source": [
    "# .c Create a set that is the intersection of set A and set B\n",
    "three_c = set(three_setA.intersection(three_setB))\n",
    "print(three_c)"
   ]
  },
  {
   "cell_type": "code",
   "execution_count": 27,
   "id": "e7207656-27a9-4add-bc40-1e08a912fd6d",
   "metadata": {},
   "outputs": [
    {
     "name": "stdout",
     "output_type": "stream",
     "text": [
      "{1, 2, 3, 4, 5, 6, 7, 8, 9}\n"
     ]
    }
   ],
   "source": [
    "# .d Create a set that is the union of sets C, D and E\n",
    "three_d = set(three_setC.union(three_setD, three_setE))\n",
    "print(three_d)"
   ]
  },
  {
   "cell_type": "code",
   "execution_count": 28,
   "id": "d1157231-dc17-4db2-8031-f25797245ce9",
   "metadata": {},
   "outputs": [
    {
     "name": "stdout",
     "output_type": "stream",
     "text": [
      "{1, 2, 3, 4, 5, 6, 7, 8, 9}\n"
     ]
    }
   ],
   "source": [
    "# .e add 9 to the set\n",
    "three_e = set(three_d)\n",
    "three_e.add(9)\n",
    "print(three_e)"
   ]
  },
  {
   "cell_type": "code",
   "execution_count": 29,
   "id": "7f420bef-4acc-4f34-baff-667c33c423d4",
   "metadata": {},
   "outputs": [
    {
     "name": "stdout",
     "output_type": "stream",
     "text": [
      "False\n"
     ]
    }
   ],
   "source": [
    "# .f Using == compare this set to the list in one_a\n",
    "three_f = one_a == three_e\n",
    "print(three_f)"
   ]
  },
  {
   "cell_type": "code",
   "execution_count": 30,
   "id": "d9b91314-b82e-4685-9251-01357c0695e5",
   "metadata": {},
   "outputs": [
    {
     "name": "stdout",
     "output_type": "stream",
     "text": [
      "True\n"
     ]
    }
   ],
   "source": [
    "# .g Explain why they are not the same. What would you need to change if you wanted this to be True? \n",
    "#three_f is missing 0 and is not a list\n",
    "three_g = list(three_e)\n",
    "three_g.insert(0,0)\n",
    "print(three_g == one_a)"
   ]
  },
  {
   "cell_type": "code",
   "execution_count": null,
   "id": "56ab7aaa-ceaf-4d34-9000-e1e9d4cc6c55",
   "metadata": {},
   "outputs": [],
   "source": [
    "\"\"\"Problem 4: Changing variable types\n",
    "\n",
    "For each step you will modify a variable, then append the type of the variable\n",
    "to a list. Do not recreate the list variable, it should be a running list of \n",
    "types.\n",
    "\n",
    "4.a Create a variable of type int with the value of 8\n",
    " .b Create an empty list \n",
    " .c Using type(), add the type of 4.a to this list\n",
    " .d Add 0.39 to 4.c\n",
    " .e append the type of 0.39 to the list\n",
    " .f exponentiate to the -10, ie: 4.d^-10,(hint: there might be an artihmetic operator to do so) round it to no \n",
    "    decimal places, and append to list.\n",
    " .g append the type to the list\"\"\"\n",
    "\n",
    " "
   ]
  },
  {
   "cell_type": "code",
   "execution_count": 31,
   "id": "089c9cb1-25d8-47a8-87f9-42e11e168fcf",
   "metadata": {},
   "outputs": [
    {
     "name": "stdout",
     "output_type": "stream",
     "text": [
      "8\n"
     ]
    }
   ],
   "source": [
    "#a Create a variable of type int with the value of 8\n",
    "four_a = int(8)\n",
    "print(four_a)"
   ]
  },
  {
   "cell_type": "code",
   "execution_count": 32,
   "id": "fcb74c50-23f3-4e5b-8f0e-a09cdb866d66",
   "metadata": {},
   "outputs": [
    {
     "name": "stdout",
     "output_type": "stream",
     "text": [
      "[]\n"
     ]
    }
   ],
   "source": [
    "# .b Create an empty list \n",
    "my_list = []\n",
    "print(my_list)"
   ]
  },
  {
   "cell_type": "code",
   "execution_count": 33,
   "id": "ba106db2-d8e2-4062-a9af-09ee9dbc4b61",
   "metadata": {},
   "outputs": [
    {
     "name": "stdout",
     "output_type": "stream",
     "text": [
      "[<class 'int'>]\n"
     ]
    }
   ],
   "source": [
    "# .c Using type(), add the type of 4.a to this list\n",
    "my_list.append(type(four_a))\n",
    "print(my_list)"
   ]
  },
  {
   "cell_type": "code",
   "execution_count": 34,
   "id": "0e91f969-cb1a-4bed-b89c-afb9d124a926",
   "metadata": {},
   "outputs": [
    {
     "name": "stdout",
     "output_type": "stream",
     "text": [
      "8.39\n"
     ]
    }
   ],
   "source": [
    "# .d Add 0.39 to 4.c -- was this supposed to be 4.a?? I proceeded as if that were the case\n",
    "four_d = four_a + 0.39\n",
    "print(four_d)"
   ]
  },
  {
   "cell_type": "code",
   "execution_count": 35,
   "id": "cf472771-4510-4dba-b7c3-2417074e28b1",
   "metadata": {},
   "outputs": [
    {
     "name": "stdout",
     "output_type": "stream",
     "text": [
      "[<class 'int'>, <class 'float'>]\n"
     ]
    }
   ],
   "source": [
    "# .e append the type of 0.39 to the list\n",
    "my_list.append(type(0.39))\n",
    "print(my_list)"
   ]
  },
  {
   "cell_type": "code",
   "execution_count": 36,
   "id": "4ba35e6b-e0d5-4310-91a9-9265db44a168",
   "metadata": {},
   "outputs": [
    {
     "name": "stdout",
     "output_type": "stream",
     "text": [
      "0\n"
     ]
    }
   ],
   "source": [
    "#.f exponentiate to the -10, ie: 4.d^-10,(hint: there might be an artihmetic operator to do so) round it to no \n",
    "#    decimal places, and append to list.\n",
    "four_f = round(8.39 **-10)\n",
    "print(four_f)"
   ]
  },
  {
   "cell_type": "code",
   "execution_count": 37,
   "id": "f85ec032-73b7-4973-9c85-d139a77bec76",
   "metadata": {},
   "outputs": [
    {
     "name": "stdout",
     "output_type": "stream",
     "text": [
      "[<class 'int'>, <class 'float'>, <class 'int'>]\n"
     ]
    }
   ],
   "source": [
    "#.g append the type to the list\n",
    "my_list.append(type(four_f))\n",
    "print(my_list)"
   ]
  },
  {
   "cell_type": "code",
   "execution_count": null,
   "id": "69e1f9d8-5d5e-4df3-be50-b7812b445571",
   "metadata": {},
   "outputs": [],
   "source": [
    "\"\"\"\n",
    "Problem 5: More variable type changes\n",
    "\n",
    "Continue from where you left off in Problem 4.\n",
    "\n",
    "5.a Manually create a dictionary where the values are items in the list from where we left in \n",
    "    problem 4, and the keys should be their index in the list. Print the dictionary.\n",
    " .b Add 300 and coerce it into a string\n",
    " .c append the type to the list\n",
    " .d slice the string up to the 2nd element\n",
    " .e append the type to the list\n",
    " .f use list comprehension to convert this into a new list of integers\n",
    " .g append the type to the list\n",
    " .h append the type of three_setA to the list\n",
    "\"\"\"\n"
   ]
  },
  {
   "cell_type": "code",
   "execution_count": 38,
   "id": "bb0fe1f9-9992-4ac4-be41-af3dc86086fc",
   "metadata": {},
   "outputs": [
    {
     "name": "stdout",
     "output_type": "stream",
     "text": [
      "{'0': <class 'int'>, '1': <class 'float'>, '2': <class 'int'>}\n"
     ]
    }
   ],
   "source": [
    "#5a Manually create a dictionary where the values are items in the list from where we left in problem 4, and the keys should be their index in the list. Print the dictionary.\n",
    "five_a = {'0': type(four_a), '1':type(four_d), '2':type(four_f)}\n",
    "print(five_a)"
   ]
  },
  {
   "cell_type": "code",
   "execution_count": 39,
   "id": "d48ff67c-624a-4d30-9a71-05d59c143320",
   "metadata": {},
   "outputs": [
    {
     "name": "stdout",
     "output_type": "stream",
     "text": [
      "{'0': <class 'int'>, '1': <class 'float'>, '2': <class 'int'>, '300': <class 'str'>}\n"
     ]
    }
   ],
   "source": [
    "# 5.b Add 300 and coerce it into a string\n",
    "five_b = dict(five_a)\n",
    "five_b.update({'300':type('300')})\n",
    "print(five_b)"
   ]
  },
  {
   "cell_type": "code",
   "execution_count": 40,
   "id": "677647b3-c7a5-403e-a0f8-836ccbd77970",
   "metadata": {},
   "outputs": [
    {
     "name": "stdout",
     "output_type": "stream",
     "text": [
      "[<class 'int'>, <class 'float'>, <class 'int'>, <class 'str'>]\n"
     ]
    }
   ],
   "source": [
    "#5.c append the type to the list\n",
    "my_list.append(type('300')) #assuming this refers to the list in problem 4:\n",
    "print(my_list)"
   ]
  },
  {
   "cell_type": "code",
   "execution_count": 41,
   "id": "1e774ffe-6e02-41cc-bc63-b544ca7daf7b",
   "metadata": {},
   "outputs": [
    {
     "name": "stdout",
     "output_type": "stream",
     "text": [
      "30\n"
     ]
    }
   ],
   "source": [
    "#5.d splice the string up to the 2nd element\n",
    "five_d = '300'\n",
    "five_d = (five_d[0:2])\n",
    "print(five_d)"
   ]
  },
  {
   "cell_type": "code",
   "execution_count": 42,
   "id": "866dff5d-3b99-41af-9798-cd5efbdb8be3",
   "metadata": {},
   "outputs": [
    {
     "name": "stdout",
     "output_type": "stream",
     "text": [
      "[<class 'int'>, <class 'float'>, <class 'int'>, <class 'str'>, <class 'str'>]\n"
     ]
    }
   ],
   "source": [
    "#.e append the type to the list\n",
    "my_list.append(type(five_d)) #again, assuming list from problem 4\n",
    "print(my_list)"
   ]
  },
  {
   "cell_type": "code",
   "execution_count": 50,
   "id": "d1c88bbb-b514-4a18-89fb-72dd6506d829",
   "metadata": {},
   "outputs": [
    {
     "name": "stdout",
     "output_type": "stream",
     "text": [
      "[0, 1, 2, 300]\n"
     ]
    }
   ],
   "source": [
    "#.f use list comprehension to convert this into a new list of integers\n",
    "five_f = list(five_b.keys())\n",
    "five_f =[int(i) for i in five_f]\n",
    "print(five_f)"
   ]
  },
  {
   "cell_type": "code",
   "execution_count": 51,
   "id": "3efd249f-40c5-4e35-bf08-08a66ea37517",
   "metadata": {},
   "outputs": [
    {
     "name": "stdout",
     "output_type": "stream",
     "text": [
      "[<class 'int'>, <class 'float'>, <class 'int'>, <class 'str'>, <class 'str'>, <class 'list'>]\n"
     ]
    }
   ],
   "source": [
    "#.g append the type to the list\n",
    "my_list.append(type(five_f))\n",
    "print(my_list)"
   ]
  },
  {
   "cell_type": "code",
   "execution_count": 52,
   "id": "90c66bee-0c7f-442e-be68-fe5412e485cf",
   "metadata": {},
   "outputs": [
    {
     "name": "stdout",
     "output_type": "stream",
     "text": [
      "[<class 'int'>, <class 'float'>, <class 'int'>, <class 'str'>, <class 'str'>, <class 'list'>, <class 'set'>]\n"
     ]
    }
   ],
   "source": [
    "#.h append the type of three_setA to the list\n",
    "my_list.append(type(three_setA))\n",
    "print(my_list)"
   ]
  }
 ],
 "metadata": {
  "kernelspec": {
   "display_name": "Python 3 (ipykernel)",
   "language": "python",
   "name": "python3"
  },
  "language_info": {
   "codemirror_mode": {
    "name": "ipython",
    "version": 3
   },
   "file_extension": ".py",
   "mimetype": "text/x-python",
   "name": "python",
   "nbconvert_exporter": "python",
   "pygments_lexer": "ipython3",
   "version": "3.12.5"
  }
 },
 "nbformat": 4,
 "nbformat_minor": 5
}
