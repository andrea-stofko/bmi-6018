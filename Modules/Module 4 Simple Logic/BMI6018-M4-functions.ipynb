{
 "cells": [
  {
   "cell_type": "markdown",
   "id": "2dab947a-4c6c-4365-909e-5ee771057212",
   "metadata": {},
   "source": [
    "# Function"
   ]
  },
  {
   "cell_type": "code",
   "execution_count": null,
   "id": "c8164fd3-ed69-47cf-8c8e-49adaabda7b0",
   "metadata": {
    "tags": []
   },
   "outputs": [],
   "source": [
    "#syntax to define function\n",
    "\n",
    "def my_function(parameter):\n",
    "    #stuff to do in function\n",
    "    \n",
    "    #pass is a function equivalent to loop's 'continue'\n",
    "    pass"
   ]
  },
  {
   "cell_type": "code",
   "execution_count": null,
   "id": "a9a8e8e6-0967-4512-8fba-b9192fcdd431",
   "metadata": {
    "tags": []
   },
   "outputs": [],
   "source": [
    "def birthday_candles(age):\n",
    "    print('Your birth year was', 2023-age)\n",
    "    \n",
    "    candles = []\n",
    "    while age:\n",
    "        candles.append('/*')\n",
    "        age -= 1\n",
    "        \n",
    "    print(\"\".join(candles))"
   ]
  },
  {
   "cell_type": "code",
   "execution_count": null,
   "id": "aff3b0b5-51c0-47f2-921e-c960489315cb",
   "metadata": {
    "tags": []
   },
   "outputs": [],
   "source": [
    "birthday_candles(26)"
   ]
  },
  {
   "cell_type": "markdown",
   "id": "d9fd0a68-fac2-497d-ae63-108e90a1d896",
   "metadata": {},
   "source": [
    "# Return?"
   ]
  },
  {
   "cell_type": "code",
   "execution_count": null,
   "id": "463e7119-670a-4b07-b8f0-4e4a4137b582",
   "metadata": {
    "tags": []
   },
   "outputs": [],
   "source": [
    "def birthday_candles(age):\n",
    "    birth_year = 2023 - age\n",
    "    candles = ['/*' for candle in range(age)]\n",
    "    \n",
    "    print(f'Your birth year was {birth_year}\\n{\"\".join(candles)}')\n",
    "    return "
   ]
  },
  {
   "cell_type": "code",
   "execution_count": null,
   "id": "12de35dc-27fd-4f3a-b075-4d17e07685ef",
   "metadata": {
    "tags": []
   },
   "outputs": [],
   "source": [
    "birthday_candles(7)"
   ]
  },
  {
   "cell_type": "markdown",
   "id": "fd0b695c-5c13-413d-988a-357e78457580",
   "metadata": {},
   "source": [
    "# Abstraction"
   ]
  }
 ],
 "metadata": {
  "kernelspec": {
   "display_name": "Python 3 (ipykernel)",
   "language": "python",
   "name": "python3"
  },
  "language_info": {
   "codemirror_mode": {
    "name": "ipython",
    "version": 3
   },
   "file_extension": ".py",
   "mimetype": "text/x-python",
   "name": "python",
   "nbconvert_exporter": "python",
   "pygments_lexer": "ipython3",
   "version": "3.11.3"
  }
 },
 "nbformat": 4,
 "nbformat_minor": 5
}
