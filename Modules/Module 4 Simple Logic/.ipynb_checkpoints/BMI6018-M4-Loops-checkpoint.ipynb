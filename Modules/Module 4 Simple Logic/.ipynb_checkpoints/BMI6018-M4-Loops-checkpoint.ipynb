{
 "cells": [
  {
   "cell_type": "markdown",
   "id": "152201b5-f9dc-4d81-9d53-d7c6d79faa0e",
   "metadata": {},
   "source": [
    "# Module 4 - Loops"
   ]
  },
  {
   "cell_type": "markdown",
   "id": "b41c6e80-b6df-4f16-9c64-4b662d8f509f",
   "metadata": {},
   "source": [
    "## For Loops\n",
    "\n",
    "require iterable (list, string, etc.)"
   ]
  },
  {
   "cell_type": "code",
   "execution_count": null,
   "id": "323187fe-1b18-4eff-9785-7e37ff962161",
   "metadata": {
    "tags": []
   },
   "outputs": [],
   "source": [
    "cities = ['SLC', 'Provo', 'Logan', 'Murray']"
   ]
  },
  {
   "cell_type": "code",
   "execution_count": null,
   "id": "a840b0d8-e132-4b40-a5a8-2b6eea4e6f7d",
   "metadata": {
    "tags": []
   },
   "outputs": [],
   "source": [
    "for city in cities:\n",
    "    print(city)"
   ]
  },
  {
   "cell_type": "code",
   "execution_count": null,
   "id": "3d38118e-accc-44b5-8867-cccfbdaf2083",
   "metadata": {
    "tags": []
   },
   "outputs": [],
   "source": [
    "for x in cities:\n",
    "    print(x)\n",
    "print(x)"
   ]
  },
  {
   "cell_type": "code",
   "execution_count": null,
   "id": "9d9f9be3-577d-4310-b2e4-91ab35a2c1a1",
   "metadata": {
    "tags": []
   },
   "outputs": [],
   "source": [
    "#range returns an iterable, given an int\n",
    "range(4)"
   ]
  },
  {
   "cell_type": "code",
   "execution_count": null,
   "id": "b3c725a0-21b2-489f-a261-e4c81089f390",
   "metadata": {
    "tags": []
   },
   "outputs": [],
   "source": [
    "for i in range(4):\n",
    "    print(i)"
   ]
  },
  {
   "cell_type": "code",
   "execution_count": null,
   "id": "360f3c8c-81ce-4688-80f1-e44642e6282d",
   "metadata": {},
   "outputs": [],
   "source": [
    "for i in [0, 1, 2, 3]:\n",
    "    print(i)"
   ]
  },
  {
   "cell_type": "code",
   "execution_count": null,
   "id": "3ca231a7-167c-4a48-a0d9-98503f2cff7a",
   "metadata": {
    "tags": []
   },
   "outputs": [],
   "source": [
    "#len returns length of a collection\n",
    "len(cities)"
   ]
  },
  {
   "cell_type": "code",
   "execution_count": null,
   "id": "2cabad17-e461-4dc8-949c-f382178494c7",
   "metadata": {
    "tags": []
   },
   "outputs": [],
   "source": [
    "for i in range(len(cities)):\n",
    "    print(cities[i])"
   ]
  },
  {
   "cell_type": "markdown",
   "id": "e8d234fd-2fbb-4ddb-9bf4-e1ed3026379a",
   "metadata": {},
   "source": [
    "## While Loops"
   ]
  },
  {
   "cell_type": "code",
   "execution_count": null,
   "id": "f63c476f-d738-4513-bb0c-41ca02853bd8",
   "metadata": {
    "tags": []
   },
   "outputs": [],
   "source": [
    "inputs = [4,5,6,7]\n",
    "\n",
    "i = 0\n",
    "while i >= 0:\n",
    "    print(i)"
   ]
  },
  {
   "cell_type": "code",
   "execution_count": null,
   "id": "c4d22d54-4398-4cf0-b9b4-2c0f25d23da4",
   "metadata": {
    "tags": []
   },
   "outputs": [],
   "source": [
    "inputs = [4,5,6,7]\n",
    "\n",
    "i = 0\n",
    "while i >= 0:\n",
    "    print(i)\n",
    "    i += 1"
   ]
  },
  {
   "cell_type": "code",
   "execution_count": null,
   "id": "03d63b6b-b701-4fc3-aea5-616ece367503",
   "metadata": {
    "tags": []
   },
   "outputs": [],
   "source": [
    "inputs = [4,5,6,7]\n",
    "\n",
    "i = 0\n",
    "while i <= 3:\n",
    "    print(i)\n",
    "    i += 1"
   ]
  },
  {
   "cell_type": "code",
   "execution_count": null,
   "id": "68105fa1-1e78-4322-a976-5faa5ef6e915",
   "metadata": {
    "tags": []
   },
   "outputs": [],
   "source": [
    "time = 2\n",
    "work = 0\n",
    "\n",
    "while time < 6:\n",
    "    work += 1\n",
    "    time += 1\n",
    "    print('time =', time, 'work done=', work)"
   ]
  },
  {
   "cell_type": "markdown",
   "id": "10e502c9-3713-4690-aa73-b63467c18c0f",
   "metadata": {},
   "source": [
    "# Break, Continue, Enumerate"
   ]
  },
  {
   "cell_type": "code",
   "execution_count": null,
   "id": "6668487e-70df-445a-adda-e206e89635cd",
   "metadata": {
    "tags": []
   },
   "outputs": [],
   "source": [
    "patients = [45, 56, 'x', 67, 78, None]"
   ]
  },
  {
   "cell_type": "code",
   "execution_count": null,
   "id": "80ef2338-fcd7-4a0d-86fe-fbdd6b2bb8d2",
   "metadata": {
    "tags": []
   },
   "outputs": [],
   "source": [
    "#testing break - iterating over indices\n",
    "for i in range(len(patients)):\n",
    "    if not isinstance(patients[i], int):\n",
    "        print('Something wrong with Patient#', i + 1)\n",
    "        break\n",
    "    print(patients[i])"
   ]
  },
  {
   "cell_type": "code",
   "execution_count": null,
   "id": "b066e94e-a50c-492e-95e6-f841133b22b8",
   "metadata": {
    "tags": []
   },
   "outputs": [],
   "source": [
    "#testing continue - iterating over indices\n",
    "for i in range(len(patients)):\n",
    "    if not isinstance(patients[i], int):\n",
    "        print('Something wrong with Patient#', i + 1)\n",
    "        continue\n",
    "    print(patients[i])"
   ]
  },
  {
   "cell_type": "code",
   "execution_count": null,
   "id": "0d4f55a9-2193-4a54-9eac-0d8826b4d438",
   "metadata": {
    "tags": []
   },
   "outputs": [],
   "source": [
    "#testing break - iterating over values\n",
    "for patient in patients:\n",
    "    if not isinstance(patient, int):\n",
    "        print('Something wrong with Patient ID:', patient)\n",
    "        break\n",
    "    print(patient)"
   ]
  },
  {
   "cell_type": "code",
   "execution_count": null,
   "id": "9ba883a9-7c57-4c06-89dd-5b3a27e1a6cd",
   "metadata": {
    "tags": []
   },
   "outputs": [],
   "source": [
    "#testing continue - iterating over values\n",
    "for patient in patients:\n",
    "    if not isinstance(patient, int):\n",
    "        print('Something wrong with Patient ID:', patient)\n",
    "        continue\n",
    "    print(patient)"
   ]
  },
  {
   "cell_type": "code",
   "execution_count": null,
   "id": "7ca9d37c-140b-4359-aea6-3002b5b9b8f7",
   "metadata": {
    "tags": []
   },
   "outputs": [],
   "source": [
    "#method to access index of value\n",
    "print('Something wrong with Patient#', patients.index(patient) + 1)"
   ]
  },
  {
   "cell_type": "code",
   "execution_count": null,
   "id": "79b9c3c4-d40a-4298-8c46-03813f66705e",
   "metadata": {
    "tags": []
   },
   "outputs": [],
   "source": [
    "#enumerate\n",
    "for index, patientID in enumerate(patients):\n",
    "    if not isinstance(patientID, int):\n",
    "        print('Something wrong with Patient #:', index + 1)\n",
    "        continue\n",
    "    print(patientID)"
   ]
  }
 ],
 "metadata": {
  "kernelspec": {
   "display_name": "Python 3 (ipykernel)",
   "language": "python",
   "name": "python3"
  },
  "language_info": {
   "codemirror_mode": {
    "name": "ipython",
    "version": 3
   },
   "file_extension": ".py",
   "mimetype": "text/x-python",
   "name": "python",
   "nbconvert_exporter": "python",
   "pygments_lexer": "ipython3",
   "version": "3.11.3"
  }
 },
 "nbformat": 4,
 "nbformat_minor": 5
}
