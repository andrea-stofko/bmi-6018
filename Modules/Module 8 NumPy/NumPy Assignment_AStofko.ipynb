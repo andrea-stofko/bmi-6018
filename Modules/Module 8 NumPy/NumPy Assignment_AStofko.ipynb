{
 "cells": [
  {
   "cell_type": "code",
   "execution_count": null,
   "id": "b9f9a62f-29c6-4918-bdc6-c75f90ab423d",
   "metadata": {},
   "outputs": [],
   "source": [
    "'''\n",
    "This assignment consists of five questions for a total of 75 points. Submit your results as a .py file via your GitHub repository.\n",
    "\n",
    "1. Import numpy as np and print the version number. (5 Points)\n",
    "\n",
    "2. Create a 1D array of numbers from 0 to 9. Desired output:\n",
    "\n",
    "#> array([0, 1, 2, 3, 4, 5, 6, 7, 8, 9])\n",
    "(10 Points)\n",
    "\n",
    "3. Import a dataset with numbers and texts keeping the text intact in python numpy. Use the iris dataset available from https://archive.ics.uci.edu/ml/machine-learning-databases/iris/iris.dataLinks to an external site.. (20 Points)\n",
    "\n",
    "4. Find the position of the first occurrence of a value greater than 1.0 in petalwidth 4th column of iris dataset. Use the iris dataset available from https://archive.ics.uci.edu/ml/machine-learning-databases/iris/iris.dataLinks to an external site.. (20 Points)\n",
    "\n",
    "5. From the array a, replace all values greater than 30 to 30 and less than 10 to 10.\n",
    "\n",
    "Input:\n",
    "\n",
    "np.random.seed(100)\n",
    "a = np.random.uniform(1,50, 20)\n",
    "(20 Points)\n",
    "'''"
   ]
  },
  {
   "cell_type": "code",
   "execution_count": null,
   "id": "2f80d331-f09a-46f2-8229-94ec4bd83d12",
   "metadata": {},
   "outputs": [],
   "source": [
    "#1. Import numpy as np and print the version number. (5 Points)\n"
   ]
  }
 ],
 "metadata": {
  "kernelspec": {
   "display_name": "Python 3 (ipykernel)",
   "language": "python",
   "name": "python3"
  },
  "language_info": {
   "codemirror_mode": {
    "name": "ipython",
    "version": 3
   },
   "file_extension": ".py",
   "mimetype": "text/x-python",
   "name": "python",
   "nbconvert_exporter": "python",
   "pygments_lexer": "ipython3",
   "version": "3.12.5"
  }
 },
 "nbformat": 4,
 "nbformat_minor": 5
}
